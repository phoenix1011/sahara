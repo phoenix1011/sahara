{
 "cells": [
  {
   "cell_type": "code",
   "execution_count": 208,
   "metadata": {
    "collapsed": true
   },
   "outputs": [],
   "source": [
    "import numpy as np"
   ]
  },
  {
   "cell_type": "markdown",
   "metadata": {},
   "source": [
    "Properties - Air"
   ]
  },
  {
   "cell_type": "code",
   "execution_count": 209,
   "metadata": {
    "collapsed": true
   },
   "outputs": [],
   "source": [
    "def kinematicViscAir(T):\n",
    "    \n",
    "    Tp = [175,200,225,250,275,300,325,350,375,400,450,500,550,600,650,700,750,800,850,900,950,1000,1050,1100,1150,1200,1250,1300,1350,1400,1500,1600,1700,1800,1900]\n",
    "    nu_p = [0.586,0.753,0.935,1.132,1.343,1.568,1.807,2.056,2.317,2.591,3.168,3.782,4.439,5.128,5.853,6.607,7.399,8.214,9.061,9.936,10.83,11.76,12.72,13.7,14.7,15.73,16.77,17.85,18.94,20.06,22.36,24.74,27.2,29.72,32.34]\n",
    "    \n",
    "    nu = np.interp(T, Tp, nu_p)\n",
    "    return nu*1e-5\n",
    "     "
   ]
  },
  {
   "cell_type": "code",
   "execution_count": 210,
   "metadata": {},
   "outputs": [
    {
     "data": {
      "text/plain": [
       "1.5680000000000002e-05"
      ]
     },
     "execution_count": 210,
     "metadata": {},
     "output_type": "execute_result"
    }
   ],
   "source": [
    "kinematicViscAir(300)"
   ]
  },
  {
   "cell_type": "code",
   "execution_count": 211,
   "metadata": {
    "collapsed": true
   },
   "outputs": [],
   "source": [
    "def densityAir(T):\n",
    "    \n",
    "    Tp = [175,200,225,250,275,300,325,350,375,400,450,500,550,600,650,700,750,800,850,900,950,1000,1050,1100,1150,1200,1250,1300,1350,1400,1500,1600,1700,1800,1900]\n",
    "    Rho_p = [2.017,1.765,1.569,1.412,1.284,1.177,1.086,1.009,0.9413,0.8824,0.7844,0.706,0.6418,0.5883,0.543,0.5043,0.4706,0.4412,0.4153,0.3922,0.3716,0.353,0.3362,0.3209,0.3069,0.2941,0.2824,0.2715,0.2615,0.2521,0.2353,0.2206,0.2076,0.1961,0.1858]\n",
    "    \n",
    "    Rho = np.interp(T, Tp, Rho_p)\n",
    "    return Rho"
   ]
  },
  {
   "cell_type": "code",
   "execution_count": 212,
   "metadata": {},
   "outputs": [
    {
     "data": {
      "text/plain": [
       "1.55016"
      ]
     },
     "execution_count": 212,
     "metadata": {},
     "output_type": "execute_result"
    }
   ],
   "source": [
    "densityAir(228)"
   ]
  },
  {
   "cell_type": "code",
   "execution_count": 213,
   "metadata": {
    "collapsed": true
   },
   "outputs": [],
   "source": [
    "def dynamicViscAir(T):\n",
    "    \n",
    "    Tp = [175,200,225,250,275,300,325,350,375,400,450,500,550,600,650,700,750,800,850,900,950,1000,1050,1100,1150,1200,1250,1300,1350,1400,1500,1600,1700,1800,1900]\n",
    "    mu_p = [1.182,1.329,1.467,1.599,1.725,1.846,1.962,2.075,2.181,2.286,2.485,2.67,2.849,3.017,3.178,3.332,3.482,3.624,3.763,3.897,4.026,4.153,4.276,4.396,4.511,4.626,4.736,4.846,4.952,5.057,5.264,5.457,5.646,5.829,6.008]\n",
    "\n",
    "    \n",
    "    mu = np.interp(T, Tp, mu_p)\n",
    "    return mu*1e-5"
   ]
  },
  {
   "cell_type": "code",
   "execution_count": 214,
   "metadata": {},
   "outputs": [
    {
     "data": {
      "text/plain": [
       "1.8599200000000003e-05"
      ]
     },
     "execution_count": 214,
     "metadata": {},
     "output_type": "execute_result"
    }
   ],
   "source": [
    "dynamicViscAir(303)"
   ]
  },
  {
   "cell_type": "code",
   "execution_count": 215,
   "metadata": {
    "collapsed": true
   },
   "outputs": [],
   "source": [
    "def spHeatAir(T):\n",
    "#     return 1005\n",
    "\n",
    "    Tp = [175,200,225,250,275,300,325,350,375,400,450,500,550,600,650,700,750,800,850,900,950,1000,1050,1100,1150,1200,1250,1300,1350,1400,1500,1600,1700,1800,1900]\n",
    "    C_p_p = [1.0023,1.0025,1.0027,1.0031,1.0038,1.0049,1.0063,1.0082,1.0106,1.0135,1.0206,1.0295,1.0398,1.0511,1.0629,1.075,1.087,1.0987,1.1101,1.1209,1.1313,1.1411,1.1502,1.1589,1.167,1.1746,1.1817,1.1884,1.1946,1.2005,1.2112,1.2207,1.2293,1.237,1.244]\n",
    "    \n",
    "    C_p = np.interp(T, Tp, C_p_p)\n",
    "    return C_p*1e3"
   ]
  },
  {
   "cell_type": "code",
   "execution_count": 216,
   "metadata": {},
   "outputs": [
    {
     "data": {
      "text/plain": [
       "1003.7439999999999"
      ]
     },
     "execution_count": 216,
     "metadata": {},
     "output_type": "execute_result"
    }
   ],
   "source": [
    "spHeatAir(273)"
   ]
  },
  {
   "cell_type": "code",
   "execution_count": 217,
   "metadata": {
    "collapsed": true
   },
   "outputs": [],
   "source": [
    "def thermalcondAir(T):\n",
    "    k = 1.5207e-11*np.power(T,3) - 4.8574e-8*np.power(T,2) + 1.0184e-4*T - 3.9333e-4\n",
    "    \n",
    "    return k"
   ]
  },
  {
   "cell_type": "code",
   "execution_count": 218,
   "metadata": {},
   "outputs": [
    {
     "data": {
      "text/plain": [
       "0.024098226317319001"
      ]
     },
     "execution_count": 218,
     "metadata": {},
     "output_type": "execute_result"
    }
   ],
   "source": [
    "thermalcondAir(273)"
   ]
  },
  {
   "cell_type": "markdown",
   "metadata": {},
   "source": [
    "Properties - Water"
   ]
  },
  {
   "cell_type": "code",
   "execution_count": 219,
   "metadata": {
    "collapsed": true
   },
   "outputs": [],
   "source": [
    "def dynamicViscWater(T):\n",
    "    \n",
    "    T = T - 273.15\n",
    "    Tp = [2,3,4,5,6,7,8,9,10,11,12,13,14,15,16,17,18,19,20,21,22,23,24,25,26,27,28,29,30,31,32,33,34,35,36,37,38,39,40,45,50,55,60,65,70,75,80]\n",
    "    mu_p = [0.0016735,0.001619,0.0015673,0.0015182,0.0014715,0.0014271,0.0013847,0.0013444,0.0013059,0.0012692,0.001234,0.0012005,0.0011683,0.0011375,0.0011081,0.0010798,0.0010526,0.0010266,0.0010016,0.0009775,0.0009544,0.0009321,0.0009107,0.00089,0.0008701,0.0008509,0.0008324,0.0008145,0.0007972,0.0007805,0.0007644,0.0007488,0.0007337,0.0007191,0.000705,0.0006913,0.000678,0.0006652,0.0006527,0.0005958,0.0005465,0.0005036,0.000466,0.0004329,0.0004035,0.0003774,0.000354]\n",
    "    \n",
    "    mu = np.interp(T, Tp, mu_p)\n",
    "    return mu"
   ]
  },
  {
   "cell_type": "code",
   "execution_count": 220,
   "metadata": {},
   "outputs": [
    {
     "data": {
      "text/plain": [
       "0.0007972"
      ]
     },
     "execution_count": 220,
     "metadata": {},
     "output_type": "execute_result"
    }
   ],
   "source": [
    "dynamicViscWater(303.15)"
   ]
  },
  {
   "cell_type": "code",
   "execution_count": 221,
   "metadata": {
    "collapsed": true
   },
   "outputs": [],
   "source": [
    "def densityWater(T):\n",
    "     \n",
    "    T = T - 273.15\n",
    "    Tp = [0,1,2,3,4,5,6,7,8,9,10,11,12,13,14,15,16,17,18,19,20,21,22,23,24,25,26,27,28,29,30,31,32,33,34,35,36,37,38,39,40,41,42,43,44,45,46,47,48,49,50,51,52,53,54,55,56,57,58,59,60,61,62,63,64,65,66,67,68,69,70,71,72,73,74,75,76,77,78,79,80,81,82,83,84,85,86,87,88,89,90,91,92,93,94,95,96,97,98,99,100]\n",
    "    \n",
    "    rho_p = [999.82,999.89,999.94,999.98,1000,1000,999.99,999.96,999.91,999.85,999.77,999.68,999.58,999.46,999.33,999.19,999.03,998.86,998.68,998.49,998.29,998.08,997.86,997.62,997.38,997.13,996.86,996.59,996.31,996.02,995.71,995.41,995.09,994.76,994.43,994.08,993.73,993.37,993,992.63,992.25,991.86,991.46,991.05,990.64,990.22,989.8,989.36,988.92,988.47,988.02,987.56,987.09,986.62,986.14,985.65,985.16,984.66,984.16,983.64,983.13,982.6,982.07,981.54,981,980.45,979.9,979.34,978.78,978.21,977.63,977.05,976.47,975.88,975.28,974.68,974.08,973.46,972.85,972.23,971.6,970.97,970.33,969.69,969.04,968.39,967.73,967.07,966.41,965.74,965.06,964.38,963.7,963.01,962.31,961.62,960.91,960.2,959.49,958.78,958.05]\n",
    "    \n",
    "    rho = np.interp(T, Tp, rho_p)\n",
    "\n",
    "#     rho = 765.33 + 1.8142*T - 0.0035*np.square(T)\n",
    "    \n",
    "    return rho"
   ]
  },
  {
   "cell_type": "code",
   "execution_count": 222,
   "metadata": {},
   "outputs": [
    {
     "data": {
      "text/plain": [
       "958.05"
      ]
     },
     "execution_count": 222,
     "metadata": {},
     "output_type": "execute_result"
    }
   ],
   "source": [
    "densityWater(3900)"
   ]
  },
  {
   "cell_type": "code",
   "execution_count": 223,
   "metadata": {
    "collapsed": true
   },
   "outputs": [],
   "source": [
    "def spheatWater(T):\n",
    "    \n",
    "    T = T - 273.15\n",
    "    Tp = [0.01,10,20,25,30,40,50,60,70,80,90,100,110,120,140,160,180,200,220,240,260,280,300,320,340,360]\n",
    "    C_p_p = [4.2199,4.1955,4.1844,4.1816,4.1801,4.1796,4.1815,4.1851,4.1902,4.1969,4.2053,4.2157,4.2283,4.2435,4.2826,4.3354,4.405,4.4958,4.6146,4.7719,4.9856,5.2889,5.7504,6.5373,8.208,15.004]\n",
    "    \n",
    "    C_p = np.interp(T, Tp, C_p_p)\n",
    "    return C_p*1000"
   ]
  },
  {
   "cell_type": "code",
   "execution_count": 224,
   "metadata": {},
   "outputs": [
    {
     "data": {
      "text/plain": [
       "4189.95"
      ]
     },
     "execution_count": 224,
     "metadata": {},
     "output_type": "execute_result"
    }
   ],
   "source": [
    "spheatWater(273.15+15)"
   ]
  },
  {
   "cell_type": "code",
   "execution_count": 225,
   "metadata": {
    "collapsed": true
   },
   "outputs": [],
   "source": [
    "def thermalcondWater(T):\n",
    "    \n",
    "    Tp = [273.15,280,285,295,305,315,325,335,345,355,365,373.15]\n",
    "    kp = [0.569,0.582,0.59,0.606,0.62,0.634,0.645,0.656,0.668,0.671,0.677,0.68]\n",
    "    \n",
    "    k = np.interp(T,Tp,kp)\n",
    "    return k\n",
    "    "
   ]
  },
  {
   "cell_type": "code",
   "execution_count": 226,
   "metadata": {},
   "outputs": [
    {
     "data": {
      "text/plain": [
       "0.62441"
      ]
     },
     "execution_count": 226,
     "metadata": {},
     "output_type": "execute_result"
    }
   ],
   "source": [
    "thermalcondWater(273.15+35)"
   ]
  },
  {
   "cell_type": "markdown",
   "metadata": {},
   "source": [
    "Dimentionless Quantities"
   ]
  },
  {
   "cell_type": "code",
   "execution_count": 227,
   "metadata": {
    "collapsed": true
   },
   "outputs": [],
   "source": [
    "def PrandtlAir(T):\n",
    "\n",
    "    Tp = [175,200,225,250,275,300,325,350,375,400,450,500,550,600,650,700,750,800,850,900,950,1000,1050,1100,1150,1200,1250,1300,1350,1400,1500,1600,1700,1800,1900]\n",
    "    Pr_p = [0.744,0.736,0.728,0.72,0.713,0.707,0.701,0.697,0.692,0.688,0.684,0.68,0.68,0.68,0.682,0.684,0.687,0.69,0.693,0.696,0.699,0.702,0.704,0.707,0.709,0.711,0.713,0.715,0.717,0.719,0.722,0.724,0.726,0.728,0.73]\n",
    "    \n",
    "    Pr = np.interp(T, Tp, Pr_p)\n",
    "    return Pr"
   ]
  },
  {
   "cell_type": "code",
   "execution_count": 228,
   "metadata": {},
   "outputs": [
    {
     "data": {
      "text/plain": [
       "0.7093999999999999"
      ]
     },
     "execution_count": 228,
     "metadata": {},
     "output_type": "execute_result"
    }
   ],
   "source": [
    "PrandtlAir(290)"
   ]
  },
  {
   "cell_type": "code",
   "execution_count": 229,
   "metadata": {
    "collapsed": true
   },
   "outputs": [],
   "source": [
    "def ReynoldsAir(T, V, d):\n",
    "    \n",
    "    rho = densityAir(T)\n",
    "    mu = dynamicViscAir(T)\n",
    "    \n",
    "    Re = rho*V*d/mu\n",
    "    \n",
    "    return Re    "
   ]
  },
  {
   "cell_type": "code",
   "execution_count": 230,
   "metadata": {},
   "outputs": [
    {
     "data": {
      "text/plain": [
       "15939.869989165762"
      ]
     },
     "execution_count": 230,
     "metadata": {},
     "output_type": "execute_result"
    }
   ],
   "source": [
    "ReynoldsAir(300, 5, 0.05)"
   ]
  },
  {
   "cell_type": "code",
   "execution_count": 231,
   "metadata": {
    "collapsed": true
   },
   "outputs": [],
   "source": [
    "def RayleighAir(Ts, Tinf, x):\n",
    "    \n",
    "    Tm = (Ts + Tinf)/2\n",
    "    \n",
    "    g = 9.806\n",
    "    \n",
    "    beta = 1/Tm\n",
    "    \n",
    "    nu = kinematicViscAir(Tm)\n",
    "    alpha = thermalcondAir(Tm) / (densityAir(Tm)*spHeatAir(Tm))\n",
    "    \n",
    "    Ra = g * beta * (Ts - Tinf) * np.power(x,3) / (nu*alpha)\n",
    "    \n",
    "    return Ra"
   ]
  },
  {
   "cell_type": "code",
   "execution_count": 232,
   "metadata": {},
   "outputs": [
    {
     "data": {
      "text/plain": [
       "250862.24244086311"
      ]
     },
     "execution_count": 232,
     "metadata": {},
     "output_type": "execute_result"
    }
   ],
   "source": [
    "RayleighAir(323, 298, 0.05)"
   ]
  },
  {
   "cell_type": "code",
   "execution_count": 233,
   "metadata": {
    "collapsed": true
   },
   "outputs": [],
   "source": [
    "def ReynoldsWater(T, V, d):\n",
    "    \n",
    "    rho = densityWater(T)\n",
    "    mu = dynamicViscWater(T)\n",
    "    \n",
    "    Re = rho*V*d/mu\n",
    "    \n",
    "    return Re    "
   ]
  },
  {
   "cell_type": "code",
   "execution_count": 234,
   "metadata": {},
   "outputs": [
    {
     "data": {
      "text/plain": [
       "6765.889830508475"
      ]
     },
     "execution_count": 234,
     "metadata": {},
     "output_type": "execute_result"
    }
   ],
   "source": [
    "ReynoldsWater(400, 0.1, 0.025)"
   ]
  },
  {
   "cell_type": "code",
   "execution_count": 235,
   "metadata": {
    "collapsed": true
   },
   "outputs": [],
   "source": [
    "def PrandtlWater(T):\n",
    "    \n",
    "#     mu = dynamicViscWater(T)\n",
    "#     Cp = spheatWater(T)\n",
    "#     k = thermalcondWater(T)\n",
    "    \n",
    "#     print (mu, Cp, k)\n",
    "#     Pr = mu*Cp/k\n",
    "    \n",
    "    T = T - 273.15\n",
    "    \n",
    "    Tp = [0.01,10,20,30,40,50,60,70,80,90,100,120,140,160,180,200,220,240,260]\n",
    "    Pr_p = [13.67,9.47,7.01,5.43,4.34,3.56,2.99,2.56,2.23,1.96,1.75,1.45,1.25,1.09,0.98,0.92,0.88,0.87,0.87]\n",
    "    \n",
    "    \n",
    "    Pr = np.interp(T, Tp, Pr_p)\n",
    "    return Pr"
   ]
  },
  {
   "cell_type": "code",
   "execution_count": 236,
   "metadata": {},
   "outputs": [
    {
     "data": {
      "text/plain": [
       "2.23"
      ]
     },
     "execution_count": 236,
     "metadata": {},
     "output_type": "execute_result"
    }
   ],
   "source": [
    "PrandtlWater(273.15+80)"
   ]
  },
  {
   "cell_type": "code",
   "execution_count": null,
   "metadata": {
    "collapsed": true
   },
   "outputs": [],
   "source": []
  },
  {
   "cell_type": "code",
   "execution_count": null,
   "metadata": {
    "collapsed": true
   },
   "outputs": [],
   "source": []
  },
  {
   "cell_type": "code",
   "execution_count": null,
   "metadata": {
    "collapsed": true
   },
   "outputs": [],
   "source": []
  },
  {
   "cell_type": "code",
   "execution_count": null,
   "metadata": {
    "collapsed": true
   },
   "outputs": [],
   "source": []
  },
  {
   "cell_type": "code",
   "execution_count": null,
   "metadata": {
    "collapsed": true
   },
   "outputs": [],
   "source": []
  },
  {
   "cell_type": "markdown",
   "metadata": {
    "collapsed": true
   },
   "source": [
    "Convection Heat Transfer Coefficients"
   ]
  },
  {
   "cell_type": "code",
   "execution_count": 237,
   "metadata": {
    "collapsed": true
   },
   "outputs": [],
   "source": [
    "def hc_ext_no_wind(Tg, Tamb, D_g_ext):\n",
    "    \n",
    "    Tm = (Tg + Tamb)/2\n",
    "    \n",
    "    Ra = RayleighAir(Tg, Tamb, D_g_ext)\n",
    "    Pr = PrandtlAir(Tm)\n",
    "    k = thermalcondAir(Tm)\n",
    "    \n",
    "    temp = np.power(0.559/Pr, 9/16)\n",
    "    temp = np.power(1 + temp, 16/9)\n",
    "    temp = np.power(Ra/temp, 1/6)\n",
    "    temp = np.power(0.6 + 0.387*temp, 2) * k/D_g_ext\n",
    "    \n",
    "    hc_ext = temp\n",
    "    return hc_ext"
   ]
  },
  {
   "cell_type": "code",
   "execution_count": 238,
   "metadata": {},
   "outputs": [
    {
     "data": {
      "text/plain": [
       "5.3578250825025808"
      ]
     },
     "execution_count": 238,
     "metadata": {},
     "output_type": "execute_result"
    }
   ],
   "source": [
    "hc_ext_no_wind(323, 298, 0.05)"
   ]
  },
  {
   "cell_type": "code",
   "execution_count": 239,
   "metadata": {
    "collapsed": true
   },
   "outputs": [],
   "source": [
    "def hc_ext_wind(Tg, Tamb, D_g_ext, V):\n",
    "    \n",
    "    Re = ReynoldsAir(Tamb, V, D_g_ext)\n",
    "    Pr = PrandtlAir(Tamb)\n",
    "    Pr_g = PrandtlAir(Tg)\n",
    "    k = thermalcondAir(Tamb)\n",
    "    \n",
    "    if (1 < Re and Re <= 40):\n",
    "        C = 0.75\n",
    "        n = 0.4\n",
    "    elif (40 < Re and Re <= 1e3):\n",
    "        C = 0.51\n",
    "        n = 0.5\n",
    "    elif (1e3 < Re and Re <= 2e5):\n",
    "        C = 0.26\n",
    "        n = 0.6\n",
    "    elif (2e5 < Re and Re <= 1e6):\n",
    "        C = 0.076\n",
    "        n = 0.7\n",
    "    else:\n",
    "        print(\"constants C and n cannot be determined for the valur of Re_air\")\n",
    "        \n",
    "    if (Pr <= 10):\n",
    "        m = 0.37\n",
    "    else:\n",
    "        m = 0.36    \n",
    "    \n",
    "    \n",
    "    hc_ext = C * np.power(Re, n) * np.power(Pr, m) * np.power(Pr/Pr_g, 1/4) * k/D_g_ext\n",
    "    \n",
    "    return hc_ext"
   ]
  },
  {
   "cell_type": "code",
   "execution_count": 240,
   "metadata": {},
   "outputs": [
    {
     "data": {
      "text/plain": [
       "23.068146423993298"
      ]
     },
     "execution_count": 240,
     "metadata": {},
     "output_type": "execute_result"
    }
   ],
   "source": [
    "hc_ext_wind(323, 298, 0.05, 2)"
   ]
  },
  {
   "cell_type": "code",
   "execution_count": 241,
   "metadata": {
    "collapsed": true
   },
   "outputs": [],
   "source": [
    "def hc_int(Tab, Tg, D_g_int, D_ab_ext):\n",
    "    \n",
    "    Tm = (Tab + Tg)/2\n",
    "    \n",
    "    k = thermalcondAir(Tm)\n",
    "    Pr = PrandtlAir(Tm)\n",
    "    L_eff = (D_g_int - D_ab_ext) / 2\n",
    "    Ra_eff = RayleighAir(Tab, Tg, L_eff)\n",
    "    \n",
    "    \n",
    "    Ra_c = np.power(np.log(D_g_int / D_ab_ext), 4) / ( np.power(L_eff, 3) * np.power ( np.power(D_ab_ext, -3/5) + np.power(D_g_int, -3/5), 5 ) ) * Ra_eff\n",
    "    \n",
    "    k_eff = 0.386*k * np.power( Pr / (0.861 + Pr) ,1/4) * np.power(Ra_c, 1/4)\n",
    "    \n",
    "    h_c_int = 2*k_eff/ (D_ab_ext * np.log(D_g_int/D_ab_ext))\n",
    "    \n",
    "    return h_c_int"
   ]
  },
  {
   "cell_type": "code",
   "execution_count": 242,
   "metadata": {},
   "outputs": [
    {
     "data": {
      "text/plain": [
       "7.0609970315702704"
      ]
     },
     "execution_count": 242,
     "metadata": {},
     "output_type": "execute_result"
    }
   ],
   "source": [
    "hc_int(473, 310, 0.047, 0.025)"
   ]
  },
  {
   "cell_type": "code",
   "execution_count": 243,
   "metadata": {
    "collapsed": true
   },
   "outputs": [],
   "source": [
    "def hr_ext(Tsky, Tg, emmisivity_glass):\n",
    "    hr_ext = emmisivity_glass * 5.67e-8 * (np.square(Tsky) + np.square(Tg)) * (Tsky + Tg)\n",
    "    return hr_ext"
   ]
  },
  {
   "cell_type": "code",
   "execution_count": 244,
   "metadata": {
    "collapsed": true
   },
   "outputs": [],
   "source": [
    "def hr_int(Tab, Tg, emmisivity_glass, emmisivity_ab, Dia_glass_int, Dia_absorber_ext):\n",
    "    eg = emmisivity_glass\n",
    "    eab = emmisivity_ab\n",
    "    \n",
    "    eint = (Dia_glass_int / Dia_absorber_ext) / (1/eab + (1-eg)/eg)\n",
    "    \n",
    "    hr_int = eint*5.67e-8* (np.square(Tab) + np.square(Tg)) * (Tab + Tg)\n",
    "    return hr_int"
   ]
  },
  {
   "cell_type": "code",
   "execution_count": 245,
   "metadata": {},
   "outputs": [
    {
     "data": {
      "text/plain": [
       "4.0991444228699994"
      ]
     },
     "execution_count": 245,
     "metadata": {},
     "output_type": "execute_result"
    }
   ],
   "source": [
    "hr_ext(288, 303, 0.7)"
   ]
  },
  {
   "cell_type": "code",
   "execution_count": 246,
   "metadata": {
    "collapsed": true
   },
   "outputs": [],
   "source": [
    "def hu_f(Tf, Tab, D_ab_int, mdot, L):\n",
    "    \n",
    "    rho = densityWater(Tf)\n",
    "    \n",
    "    V = 4*mdot / (rho*np.pi*np.square(D_ab_int))\n",
    "    \n",
    "    Re = ReynoldsWater(Tf, V, D_ab_int)\n",
    "    \n",
    "    k = thermalcondWater(Tf)\n",
    "    d = D_ab_int / L\n",
    "    \n",
    "    \n",
    "    Pr = PrandtlWater(Tf)\n",
    "    Pr_ab = PrandtlWater(Tab)\n",
    "    \n",
    "    if (Re < 2300):\n",
    "        \n",
    "        \n",
    "        Nu_f = 1.615*np.power(Re*Pr*d, 1/3) - 0.7\n",
    "        Nu_f = np.power(Nu_f, 3) + np.power(3.66, 3) + np.power(0.7, 3)\n",
    "        \n",
    "        Nu_fl = 2/(1+22*Pr)\n",
    "        Nu_fl = np.power(Nu_fl, 1/6)*np.power(Re*Pr*d, 1/2)\n",
    "        Nu_fl = np.power(Nu_fl, 3) + Nu_f\n",
    "        \n",
    "        Nu_f = np.power(Nu_f, 1/3)\n",
    "        \n",
    "#         Nu_f = np.power( np.power(3.66, 3) + np.power(0.7, 3) + np.power(1.615*np.power(Re * Pr * d, 1/3) - 0.7 , 3)  + np.power( np.power(2/(1 + 22*Pr),1/6) * np.power(Re * Pr * d, 1/2), 3), 1/3)\n",
    "\n",
    "\n",
    "#         Nu_f = 4.36\n",
    "        \n",
    "        hu_f = k * Nu_f / D_ab_int\n",
    "#         print(\"laminar\")\n",
    "        \n",
    "  \n",
    "    elif (Re > 4000):\n",
    "\n",
    "        f = np.power(1.8 * np.log( Re) - 1.5, -2)\n",
    "#         f = np.power(1.84 * np.log10( Re) - 1.64, -2)\n",
    "        \n",
    "        Nu_f = ((f/8) * (Re - 1000) * (1 + np.power(d, 2/3)) * Pr) / (1 + 12.7*np.sqrt(f/8) * (np.power(Pr, 2/3) - 1)) * np.power(Pr/Pr_ab, 0.11)\n",
    "        \n",
    "        hu_f = k * Nu_f / D_ab_int\n",
    "#         print(\"turbulent\")\n",
    "        \n",
    "    \n",
    "    else:\n",
    "        eta = (Re - 2300) / (4000 - 2300)\n",
    "        d = 0.0001\n",
    "        Pr = 0.7\n",
    "        f = np.power(1.8 * np.log( Re) - 1.5, -2)\n",
    "        Nu_l = np.power( np.power(3.66, 3) + np.power(0.7, 3) + np.power(1.615*np.power(Re * Pr * d, 1/3) - 0.7 , 3)  + np.power( np.power(2/(1 + 22*Pr),1/6) * np.power(Re * Pr * d, 1/2), 3), 1/3)\n",
    "        \n",
    "        Nu_t = ((f/8) * (4000 - 1000) * (1 + np.power(d, 2/3)) * Pr) / (1 + 12.7*np.sqrt(f/8) * (np.power(Pr, 2/3) - 1))\n",
    "\n",
    "#         Nu_f = (1-eta)*Nu_l + eta*Nu_t\n",
    "        Nu_f = (eta)*Nu_l + (1-eta)*Nu_t\n",
    "    \n",
    "        hu_f = k * Nu_f / D_ab_int\n",
    "#         print(\"transition\", (eta))\n",
    "    \n",
    "    return hu_f\n"
   ]
  },
  {
   "cell_type": "code",
   "execution_count": 247,
   "metadata": {},
   "outputs": [
    {
     "data": {
      "text/plain": [
       "1572.9597596738847"
      ]
     },
     "execution_count": 247,
     "metadata": {},
     "output_type": "execute_result"
    }
   ],
   "source": [
    "hu_f(380, 460, 0.025, 0.69, 1)"
   ]
  },
  {
   "cell_type": "code",
   "execution_count": 248,
   "metadata": {
    "collapsed": true
   },
   "outputs": [],
   "source": [
    "def incidentAngleModifier(theta):\n",
    "    K = 1 - 0.00384*theta - 0.000143*theta*theta\n",
    "    \n",
    "    return K"
   ]
  },
  {
   "cell_type": "code",
   "execution_count": 249,
   "metadata": {
    "collapsed": true
   },
   "outputs": [],
   "source": [
    "range1 = lambda start, end: range(start, end+1)"
   ]
  },
  {
   "cell_type": "markdown",
   "metadata": {
    "collapsed": true
   },
   "source": [
    "Code"
   ]
  },
  {
   "cell_type": "code",
   "execution_count": 268,
   "metadata": {
    "collapsed": true
   },
   "outputs": [],
   "source": [
    "def inputs():\n",
    "    L = 7.8        # Length of the aperture in m\n",
    "    W = 5          # Width of the aperture in m\n",
    "    F = 1.84       # Focal distance in m\n",
    "    mdot = 0.2     # Mass flow rate of fluid in kg s-1\n",
    "\n",
    "    D_ab_ext = 0.07   # External dia of absorber tube in m\n",
    "    D_ab_int = 0.066  # Internal dia of absorber tube in m\n",
    "\n",
    "    D_g_ext = 0.115   # External dia of glass envelop in m\n",
    "    D_g_int = 0.109   # Internal dia of glass envelop in m\n",
    "\n",
    "    k_ab = 54        # Absorber tube thermal conductivity in W m-1 K-1\n",
    "    k_g = 1.2        # Glass envelope thermal conductivity in W m-1 K-1\n",
    "\n",
    "    alpha_ab = 0.906    # Absorber tube thermal absorptance\n",
    "    alpha_g = 0.02      # Glass envelope thermal absorptance\n",
    "\n",
    "    tau_g = 0.95     # Glass envelop transmittance\n",
    "    alpha_0 = 0.864  # Tansmittance absorptance factor\n",
    "\n",
    "    Cp_ab = 500    # Absorber tube specific heat in J kg-1 K-1\n",
    "    Cp_g = 1090    # Glass envelop specific heat in J kg-1 K-1\n",
    "\n",
    "    rho_ab = 8020    # Absorber tube density in kg m-3\n",
    "    rho_g = 2230     # Glass envelope density in kg m-3\n",
    "\n",
    "    eta_ab = 0.14    # Absorber pipe emittance\n",
    "    eta_g = 0.86     # Glass envelop emittance\n",
    "\n",
    "    rho_0 = 0.93    # Reflected surface reflectivity\n",
    "    gamma = 0.92    # Shape factor\n",
    "\n",
    "    theta = np.pi/2\n",
    "\n",
    "    # Nodal description\n",
    "    P = 10       # No. of Sections\n",
    "    N = 3*(P+1)  # No. of Nodes\n",
    "    dx = L/P\n",
    "\n",
    "    # Specify Irradiation\n",
    "    I = 1000     # W/m2\n",
    "\n",
    "    # Specify Inlet temperatures\n",
    "\n",
    "\n",
    "    T_a = 30 + 273.15    # Ambient Temperature\n",
    "\n",
    "    # Initialize Temperature vector\n",
    "    T_old = np.ones(N+1)\n",
    "\n",
    "    T_old[1] = T_a\n",
    "    T_old[P+2] = T_a\n",
    "    T_old[2*P+3] = T_a\n",
    "\n",
    "    # Initialize the nodal values to the respective inlet temperature\n",
    "    for i in range1(2, P+1):\n",
    "        T_old[i] = T_a                 # Glass nodes\n",
    "\n",
    "    for i in range1(P+3, 2*P+2):\n",
    "        T_old[i] = T_a                 # Absorber nodes\n",
    "\n",
    "    for i in range1(2*P+4, 3*P+3):\n",
    "        T_old[i] = T_a                 # Fluid nodes\n",
    "    \n",
    "    \n",
    "    for i in range(9):\n",
    "        A, B = coeffMat(N, T_a, D_ab_ext, D_ab_int, D_g_ext, D_g_int, k_ab, k_g, alpha_ab, alpha_g, tau_g, alpha_0, Cp_ab, Cp_g, rho_ab, rho_g, eta_ab, eta_g, rho_0, gamma, theta, T_old)\n",
    "        T = Solve(A, B, T_old, N, P)\n",
    "        \n",
    "        print(\"i\")\n",
    "        print (T)\n",
    "        \n",
    "        T_old = T\n",
    "#     return T, T_old"
   ]
  },
  {
   "cell_type": "code",
   "execution_count": 269,
   "metadata": {},
   "outputs": [],
   "source": [
    "# print(T_old)"
   ]
  },
  {
   "cell_type": "markdown",
   "metadata": {
    "collapsed": true
   },
   "source": [
    "Coefficient Matrix"
   ]
  },
  {
   "cell_type": "code",
   "execution_count": 270,
   "metadata": {},
   "outputs": [],
   "source": [
    "def coeffMat(N, T_a, D_ab_ext, D_ab_int, D_g_ext, D_g_int, k_ab, k_g, alpha_ab, alpha_g, tau_g, alpha_0, Cp_ab, Cp_g, rho_ab, rho_g, eta_ab, eta_g, rho_0, gamma, theta, T_old):\n",
    "    \n",
    "    A = np.zeros((N+1, 5))\n",
    "    B = np.zeros(N+1)\n",
    "    \n",
    "\n",
    "    T_sky = 0.0552*np.power(T_a, 1.5)\n",
    "\n",
    "    # Glass inlet node\n",
    "    A[1, 0] = 1\n",
    "    B[1] = T_old[1]\n",
    "\n",
    "\n",
    "    # Glass interior nodes\n",
    "    for j in range1(2,P):\n",
    "        a_g1 = k_g * np.pi/4 * (np.square(D_g_ext) - np.square(D_g_int)) / np.square(dx)\n",
    "\n",
    "        h_c_ext = hc_ext_no_wind(T_old[j], T_a, D_g_ext)\n",
    "        h_r_ext = hr_ext(T_sky, T_old[j], eta_g)\n",
    "\n",
    "        h_c_int = hc_int(T_old[j+(P+1)], T_old[j], D_g_int, D_ab_ext)\n",
    "        h_r_int = hr_int(T_old[j+(P+1)], T_old[j], eta_g, eta_ab, D_g_int, D_ab_ext)\n",
    "        h_int = h_c_int + h_r_int\n",
    "\n",
    "        a_g2 = h_int * np.pi * D_ab_ext\n",
    "        a_g3 = h_c_ext * np.pi * D_g_ext\n",
    "        a_g4 = h_r_ext * np.pi * D_g_ext\n",
    "        a_g = -2*a_g1 - a_g2 - a_g3 - a_g4\n",
    "\n",
    "        B_g = -W*I*rho_0*alpha_g*gamma*incidentAngleModifier(theta) - a_g3*T_a - a_g4*T_sky\n",
    "\n",
    "        A[j,0] = a_g1\n",
    "        A[j,1] = a_g\n",
    "        A[j,2] = a_g2\n",
    "\n",
    "        B[j] = B_g\n",
    "\n",
    "\n",
    "    # Glass Outmost node\n",
    "    j = P+1\n",
    "\n",
    "    a_g1 = k_g * np.pi/4 * (np.square(D_g_ext) - np.square(D_g_int)) / np.square(dx)\n",
    "    h_c_ext = hc_ext_no_wind(T_old[j], T_a, D_g_ext)\n",
    "    h_r_ext = hr_ext(T_sky, T_old[j], eta_g)\n",
    "\n",
    "    h_c_int = hc_int(T_old[j], T_old[j], D_g_int, D_ab_ext)\n",
    "    h_r_int = hr_int(T_old[j+(P+1)], T_old[j], eta_g, eta_ab, D_g_int, D_ab_ext)\n",
    "    h_int = h_c_int + h_r_int\n",
    "\n",
    "    a_g2 = h_int * np.pi * D_ab_ext\n",
    "    a_g3 = h_c_ext * np.pi * D_g_ext\n",
    "    a_g4 = h_r_ext * np.pi * D_g_ext\n",
    "    a_g = -2*a_g1 - a_g2 - a_g3 - a_g4\n",
    "\n",
    "    B_g = -W*I*rho_0*alpha_g*gamma*incidentAngleModifier(theta) - a_g3*T_a - a_g4*T_sky\n",
    "\n",
    "    A[j,0] = 2*a_g1\n",
    "    A[j,1] = a_g\n",
    "    A[j,2] = a_g2\n",
    "\n",
    "    B[j] = B_g\n",
    "\n",
    "\n",
    "    # Absorber inlet node\n",
    "    j = P+2\n",
    "    A[j, 0] = 1\n",
    "    B[j] = T_old[j]\n",
    "\n",
    "    # Absorber inner nodes\n",
    "    for j in range1(P+3, 2*P+1):\n",
    "        a_ab1 = k_ab* np.pi/4 * (np.square(D_ab_ext) - np.square(D_ab_int)) / np.square(dx)\n",
    "\n",
    "        h_c_int = hc_int(T_old[j], T_old[j-(P+1)], D_g_int, D_ab_ext)\n",
    "        h_r_int = hr_int(T_old[j], T_old[j-(P+1)], eta_g, eta_ab, D_g_int, D_ab_ext)\n",
    "        h_int = h_c_int + h_r_int\n",
    "\n",
    "        h_u = hu_f(T_old[j+(P+1)], T_old[j], D_ab_int, mdot, L)\n",
    "\n",
    "        a_ab2 = h_int * np.pi * D_ab_ext\n",
    "        a_ab3 = h_u * np.pi * D_ab_int\n",
    "        a_ab = -2*a_ab1 - a_ab2 - a_ab3\n",
    "\n",
    "        B_ab = -W*I*rho_0*tau_g*alpha_ab*gamma*incidentAngleModifier(theta)\n",
    "\n",
    "        A[j, 0] = a_ab1\n",
    "        A[j, 1] = a_ab\n",
    "        A[j, 2] = a_ab2\n",
    "        A[j, 3] = a_ab3\n",
    "\n",
    "        B[j] = B_ab\n",
    "\n",
    "    # Absorber Outmost node\n",
    "    j = 2*P + 2\n",
    "\n",
    "    a_ab1 = k_ab* np.pi/4 * (np.square(D_ab_ext) - np.square(D_ab_int)) / np.square(dx)\n",
    "\n",
    "    h_c_int = hc_int(T_old[j], T_old[j-(P+1)], D_g_int, D_ab_ext)\n",
    "    h_r_int = hr_int(T_old[j], T_old[j-(P+1)], eta_g, eta_ab, D_g_int, D_ab_ext)\n",
    "    h_int = h_c_int + h_r_int\n",
    "\n",
    "    h_u = hu_f(T_old[j+(P+1)], T_old[j], D_ab_int, mdot, L)\n",
    "\n",
    "    a_ab2 = h_int * np.pi * D_ab_ext\n",
    "    a_ab3 = h_u* np.pi * D_ab_int\n",
    "    a_ab = -2*a_ab1 - a_ab2 - a_ab3\n",
    "\n",
    "    B_ab = -W*I*rho_0*tau_g*alpha_ab*gamma*incidentAngleModifier(theta)\n",
    "\n",
    "    A[j, 0] = 2*a_ab1\n",
    "    A[j, 1] = a_ab\n",
    "    A[j, 2] = a_ab2\n",
    "    A[j, 3] = a_ab3\n",
    "\n",
    "    B[j] = B_ab\n",
    "\n",
    "\n",
    "    # Fluid inlet node\n",
    "    j = 2*P+3\n",
    "    A[j, 0] = 1\n",
    "    B[j] = T_old[j]\n",
    "\n",
    "\n",
    "    # Fluid Interior nodes\n",
    "    for j in range1(2*P+4, 3*P+2):\n",
    "        k = thermalcondWater(T_old[j])\n",
    "        c = spheatWater(T_old[j])\n",
    "\n",
    "        a_f1 = k * np.pi/4*np.square(D_ab_int) / np.square(dx)\n",
    "        a_f2 = - mdot * c / (2*dx)\n",
    "\n",
    "        h_u = hu_f(T_old[j], T_old[j-(P+1)], D_ab_int, mdot, L)\n",
    "        a_f3 = h_u * np.pi * D_ab_int\n",
    "\n",
    "        a_F1 = a_f1 - a_f2\n",
    "        a_F2 = a_f1 + a_f2\n",
    "        a_F = -2*a_f1 - a_f3\n",
    "\n",
    "        A[j, 0] = a_F1\n",
    "        A[j, 1] = a_F\n",
    "        A[j, 2] = a_F2\n",
    "        A[j, 3] = a_f3\n",
    "\n",
    "        B[j] = 0\n",
    "\n",
    "    # Fluid Outer node\n",
    "    j = 3*P+3\n",
    "\n",
    "    k = thermalcondWater(T_old[j])\n",
    "    c = spheatWater(T_old[j])\n",
    "\n",
    "    a_f1 = k * np.pi/4*np.square(D_ab_int) / np.square(dx)\n",
    "    a_f2 = - mdot * c / (2*dx)\n",
    "\n",
    "    h_u = hu_f(T_old[j], T_old[j-(P+1)], D_ab_int, mdot, L)\n",
    "    a_f3 = h_u * np.pi * D_ab_int\n",
    "\n",
    "    a_F1 = a_f1 - a_f2\n",
    "    a_F2 = a_f1 + a_f2\n",
    "    a_F = -2*a_f1 - a_f3\n",
    "\n",
    "    A[j, 0] = 2*a_f1\n",
    "    A[j, 1] = a_F\n",
    "    A[j, 2] = a_f3\n",
    "\n",
    "    B[j] = 0\n",
    "    \n",
    "    return A, B"
   ]
  },
  {
   "cell_type": "markdown",
   "metadata": {},
   "source": [
    "Solver"
   ]
  },
  {
   "cell_type": "code",
   "execution_count": 271,
   "metadata": {},
   "outputs": [],
   "source": [
    "def Solve(A, B, T_old, N, P):\n",
    "    T = np.ones(N+1)\n",
    "    \n",
    "    # Glass envelop - left most node\n",
    "    j = 1\n",
    "    T[j] = T_old[j]\n",
    "    \n",
    "    # Glass envelop - interior nodes\n",
    "    for j in range1(2,P):\n",
    "        T[j] = (B[j] - A[j,0] * (T_old[j-1] + T_old[j+1]) - A[j,2]*T_old[j+(P+1)]) / A[j,1]\n",
    "    \n",
    "    # Glass envelop - right most node\n",
    "    j = P+1\n",
    "    T[j] = (B[j] - A[j,0] * (T_old[j-1]) - A[j,2]*T_old[j+(P+1)]) / A[j,1]\n",
    "    \n",
    "    # Absorber tube - left most node\n",
    "    j = P+2\n",
    "    T[j] = T_old[j]\n",
    "    \n",
    "    # Absorber tube - interior nodes\n",
    "    for j in range1(P+3, 2*P+1):\n",
    "        T[j] = (B[j] - A[j,0]*(T_old[j-1] + T_old[j+1]) - A[j,2]*T_old[j-(P+1)] - A[j,3]*T_old[j+(P+1)]) / A[j,1]\n",
    "    \n",
    "    # Ansorber tube - outlet node\n",
    "    j = 2*P+2\n",
    "    T[j] = (B[j] - A[j,0]*(T_old[j-1]) - A[j,2]*T_old[j-(P+1)] - A[j,3]*T_old[j+(P+1)]) / A[j,1]\n",
    "    \n",
    "    # Fluid - leftmost node\n",
    "    j = 2*P+3\n",
    "    T[j] = T_old[j]\n",
    "    \n",
    "    # Fluid - interior nodes\n",
    "    for j in range1(2*P+4, 3*P+2):\n",
    "        T[j] = (-A[j,0]*T_old[j-1] -A[j,2]*T_old[j+1] -A[j,3]*T_old[j-(P+1)]) / A[j,1]\n",
    "    \n",
    "    # Fluid - rightmost node\n",
    "    j = 3*P+3\n",
    "    T[j] = (-A[j,0]*T_old[j-1] -A[j,2]*T_old[j-(P+1)]) / A[j,1]\n",
    "    \n",
    "    return T"
   ]
  },
  {
   "cell_type": "code",
   "execution_count": null,
   "metadata": {},
   "outputs": [],
   "source": []
  },
  {
   "cell_type": "code",
   "execution_count": null,
   "metadata": {
    "collapsed": true
   },
   "outputs": [],
   "source": []
  },
  {
   "cell_type": "code",
   "execution_count": null,
   "metadata": {
    "collapsed": true
   },
   "outputs": [],
   "source": []
  },
  {
   "cell_type": "code",
   "execution_count": null,
   "metadata": {
    "collapsed": true
   },
   "outputs": [],
   "source": []
  },
  {
   "cell_type": "code",
   "execution_count": null,
   "metadata": {
    "collapsed": true
   },
   "outputs": [],
   "source": []
  },
  {
   "cell_type": "code",
   "execution_count": null,
   "metadata": {
    "collapsed": true
   },
   "outputs": [],
   "source": []
  },
  {
   "cell_type": "code",
   "execution_count": 272,
   "metadata": {},
   "outputs": [
    {
     "name": "stdout",
     "output_type": "stream",
     "text": [
      "i\n",
      "[   1.          303.15        332.10680955  332.10680955  332.10680955\n",
      "  332.10680955  332.10680955  332.10680955  332.10680955  332.10680955\n",
      "  332.10680955  332.10680955  303.15        519.84596822  519.84596822\n",
      "  519.84596822  519.84596822  519.84596822  519.84596822  519.84596822\n",
      "  519.84596822  519.84596822  519.84596822  303.15        303.15        303.15\n",
      "  303.15        303.15        303.15        303.15        303.15        303.15\n",
      "  303.15        303.15      ]\n",
      "i\n",
      "[   1.          303.15        386.92146302  386.93168197  386.93168197\n",
      "  386.93168197  386.93168197  386.93168197  386.93168197  386.93168197\n",
      "  386.93168197  354.98675459  303.15        470.35843797  470.72732658\n",
      "  470.72732658  470.72732658  470.72732658  470.72732658  470.72732658\n",
      "  470.72732658  470.72732658  470.72732658  303.15        519.77149003\n",
      "  519.77149003  519.77149003  519.77149003  519.77149003  519.77149003\n",
      "  519.77149003  519.77149003  519.77149003  519.77149003]\n",
      "i\n",
      "[  1.00000000e+00   3.03150000e+02   3.53977737e+02   3.54131732e+02\n",
      "   3.54131736e+02   3.54131736e+02   3.54131736e+02   3.54131736e+02\n",
      "   3.54131736e+02   3.54131736e+02   3.54122059e+02   3.38689853e+02\n",
      "   3.03150000e+02   7.95504694e+02   7.95919655e+02   7.95920785e+02\n",
      "   7.95920785e+02   7.95920785e+02   7.95920785e+02   7.95920785e+02\n",
      "   7.95920785e+02   7.95920785e+02   7.91111710e+02   3.03150000e+02\n",
      "  -1.23007075e+04   4.70762938e+02   4.70762938e+02   4.70762938e+02\n",
      "   4.70762938e+02   4.70762938e+02   4.70762938e+02   4.70762938e+02\n",
      "   4.70762938e+02   4.70762938e+02]\n",
      "i\n",
      "[  1.00000000e+00   3.03150000e+02   5.31688375e+02   5.31904551e+02\n",
      "   5.31905368e+02   5.31905368e+02   5.31905368e+02   5.31905368e+02\n",
      "   5.31905368e+02   5.31905365e+02   5.31906571e+02   4.85122720e+02\n",
      "   3.03150000e+02  -5.09974128e+03   6.89232515e+02   6.89233385e+02\n",
      "   6.89233388e+02   6.89233388e+02   6.89233388e+02   6.89233388e+02\n",
      "   6.89233388e+02   6.89219507e+02   6.87394789e+02   3.03150000e+02\n",
      "  -2.66146812e+04  -6.52102919e+05   7.95699700e+02   7.95699700e+02\n",
      "   7.95699700e+02   7.95699700e+02   7.95699700e+02   7.95699700e+02\n",
      "   7.95699700e+02   7.90893895e+02]\n",
      "i\n",
      "[  1.00000000e+00   3.03150000e+02              nan   4.19950804e+02\n",
      "   4.19951114e+02   4.19951116e+02   4.19951116e+02   4.19951116e+02\n",
      "   4.19951116e+02   4.19951117e+02   4.19935836e+02   3.98204216e+02\n",
      "   3.03150000e+02              nan  -3.14952386e+05   9.89977229e+02\n",
      "   9.89977230e+02   9.89977230e+02   9.89977230e+02   9.89977230e+02\n",
      "   9.89977193e+02   9.89975961e+02   9.81203162e+02   3.03150000e+02\n",
      "   1.06680889e+08  -4.48169974e+06  -1.18410975e+08   6.89310121e+02\n",
      "   6.89310155e+02   6.89310120e+02   6.89310155e+02   6.89310224e+02\n",
      "   1.56088811e+03   6.87472882e+02]\n",
      "i\n",
      "[  1.00000000e+00   3.03150000e+02              nan              nan\n",
      "   6.47373331e+02   6.47373332e+02   6.47373332e+02   6.47373332e+02\n",
      "   6.47373332e+02   6.47373298e+02   6.47375148e+02   6.04218117e+02\n",
      "   3.03150000e+02              nan              nan  -4.33998974e+07\n",
      "   8.22054967e+02   8.22054989e+02   8.22054967e+02   8.22054989e+02\n",
      "   8.22055041e+02   1.38855346e+03   8.18674121e+02   3.03150000e+02\n",
      "              nan   3.68084794e+10  -7.32999117e+08  -2.14754959e+10\n",
      "   9.89760584e+02   9.89760398e+02   9.89741557e+02  -1.57081619e+05\n",
      "   1.32298383e+03   9.81621141e+02]\n",
      "i\n",
      "[  1.00000000e+00   3.03150000e+02              nan              nan\n",
      "              nan   4.66657822e+02   4.66657834e+02   4.66657822e+02\n",
      "   4.66657834e+02   4.66657869e+02   9.02315188e+02   4.48288756e+02\n",
      "   3.03150000e+02              nan              nan              nan\n",
      "  -8.23852183e+09   1.10641272e+03   1.10641260e+03   1.10640004e+03\n",
      "  -5.94308197e+04   1.08740532e+03   1.09885146e+03   3.03150000e+02\n",
      "              nan              nan   9.53102894e+12  -1.19866693e+11\n",
      "  -3.89486094e+12   8.25626616e+02   2.86690108e+07  -5.36717157e+04\n",
      "  -2.86654382e+07   8.19037751e+02]\n",
      "i\n",
      "[  1.00000000e+00   3.03150000e+02              nan              nan\n",
      "              nan              nan   7.25864595e+02   7.25864497e+02\n",
      "   7.25853369e+02              nan   5.67301903e+02   6.87738209e+02\n",
      "   3.03150000e+02              nan              nan              nan\n",
      "              nan  -1.20206963e+12   8.84070802e+02   1.68851137e+07\n",
      "              nan  -6.38593000e+06   8.78012789e+02   3.03150000e+02\n",
      "              nan              nan              nan   2.19550512e+15\n",
      "  -1.96016674e+13  -7.06388938e+14   9.88486940e+06   9.37572405e+09\n",
      "  -8.90972554e+06  -1.95710358e+04]\n",
      "i\n",
      "[  1.00000000e+00   3.03150000e+02              nan              nan\n",
      "              nan              nan              nan   4.85461629e+02\n",
      "              nan              nan              nan   4.68833587e+02\n",
      "   3.03150000e+02              nan              nan              nan\n",
      "              nan              nan  -2.36043108e+14              nan\n",
      "              nan              nan  -5.68950848e+04   3.03150000e+02\n",
      "              nan              nan              nan              nan\n",
      "   4.74540948e+17  -3.20544054e+15  -1.28114530e+17              nan\n",
      "   1.53319858e+12  -1.63574240e+04]\n"
     ]
    },
    {
     "name": "stderr",
     "output_type": "stream",
     "text": [
      "F:\\HOME\\Anaconda3\\lib\\site-packages\\ipykernel_launcher.py:13: RuntimeWarning: invalid value encountered in power\n",
      "  del sys.path[0]\n"
     ]
    }
   ],
   "source": [
    "inputs()"
   ]
  },
  {
   "cell_type": "code",
   "execution_count": null,
   "metadata": {},
   "outputs": [],
   "source": []
  },
  {
   "cell_type": "code",
   "execution_count": null,
   "metadata": {},
   "outputs": [],
   "source": []
  },
  {
   "cell_type": "code",
   "execution_count": null,
   "metadata": {
    "collapsed": true
   },
   "outputs": [],
   "source": []
  },
  {
   "cell_type": "code",
   "execution_count": null,
   "metadata": {
    "collapsed": true
   },
   "outputs": [],
   "source": []
  },
  {
   "cell_type": "code",
   "execution_count": null,
   "metadata": {
    "collapsed": true
   },
   "outputs": [],
   "source": []
  },
  {
   "cell_type": "code",
   "execution_count": null,
   "metadata": {
    "collapsed": true
   },
   "outputs": [],
   "source": []
  },
  {
   "cell_type": "code",
   "execution_count": null,
   "metadata": {
    "collapsed": true
   },
   "outputs": [],
   "source": []
  },
  {
   "cell_type": "code",
   "execution_count": null,
   "metadata": {
    "collapsed": true
   },
   "outputs": [],
   "source": []
  },
  {
   "cell_type": "code",
   "execution_count": null,
   "metadata": {
    "collapsed": true
   },
   "outputs": [],
   "source": []
  },
  {
   "cell_type": "code",
   "execution_count": null,
   "metadata": {
    "collapsed": true
   },
   "outputs": [],
   "source": []
  },
  {
   "cell_type": "code",
   "execution_count": null,
   "metadata": {
    "collapsed": true
   },
   "outputs": [],
   "source": []
  },
  {
   "cell_type": "code",
   "execution_count": null,
   "metadata": {
    "collapsed": true
   },
   "outputs": [],
   "source": []
  },
  {
   "cell_type": "code",
   "execution_count": null,
   "metadata": {
    "collapsed": true
   },
   "outputs": [],
   "source": []
  },
  {
   "cell_type": "code",
   "execution_count": null,
   "metadata": {
    "collapsed": true
   },
   "outputs": [],
   "source": []
  }
 ],
 "metadata": {
  "kernelspec": {
   "display_name": "Python 3",
   "language": "python",
   "name": "python3"
  },
  "language_info": {
   "codemirror_mode": {
    "name": "ipython",
    "version": 3
   },
   "file_extension": ".py",
   "mimetype": "text/x-python",
   "name": "python",
   "nbconvert_exporter": "python",
   "pygments_lexer": "ipython3",
   "version": "3.6.1"
  }
 },
 "nbformat": 4,
 "nbformat_minor": 2
}
