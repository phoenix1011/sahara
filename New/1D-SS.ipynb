{
 "cells": [
  {
   "cell_type": "code",
   "execution_count": 1,
   "metadata": {
    "collapsed": true
   },
   "outputs": [],
   "source": [
    "import numpy as np"
   ]
  },
  {
   "cell_type": "markdown",
   "metadata": {},
   "source": [
    "Properties - Air"
   ]
  },
  {
   "cell_type": "code",
   "execution_count": 2,
   "metadata": {
    "collapsed": true
   },
   "outputs": [],
   "source": [
    "def kinematicViscAir(T):\n",
    "    \n",
    "    Tp = [175,200,225,250,275,300,325,350,375,400,450,500,550,600,650,700,750,800,850,900,950,1000,1050,1100,1150,1200,1250,1300,1350,1400,1500,1600,1700,1800,1900]\n",
    "    nu_p = [0.586,0.753,0.935,1.132,1.343,1.568,1.807,2.056,2.317,2.591,3.168,3.782,4.439,5.128,5.853,6.607,7.399,8.214,9.061,9.936,10.83,11.76,12.72,13.7,14.7,15.73,16.77,17.85,18.94,20.06,22.36,24.74,27.2,29.72,32.34]\n",
    "    \n",
    "    nu = np.interp(T, Tp, nu_p)\n",
    "    return nu*1e-5\n",
    "     "
   ]
  },
  {
   "cell_type": "code",
   "execution_count": 3,
   "metadata": {},
   "outputs": [
    {
     "data": {
      "text/plain": [
       "1.5680000000000002e-05"
      ]
     },
     "execution_count": 3,
     "metadata": {},
     "output_type": "execute_result"
    }
   ],
   "source": [
    "kinematicViscAir(300)"
   ]
  },
  {
   "cell_type": "code",
   "execution_count": 4,
   "metadata": {
    "collapsed": true
   },
   "outputs": [],
   "source": [
    "def densityAir(T):\n",
    "    \n",
    "    Tp = [175,200,225,250,275,300,325,350,375,400,450,500,550,600,650,700,750,800,850,900,950,1000,1050,1100,1150,1200,1250,1300,1350,1400,1500,1600,1700,1800,1900]\n",
    "    Rho_p = [2.017,1.765,1.569,1.412,1.284,1.177,1.086,1.009,0.9413,0.8824,0.7844,0.706,0.6418,0.5883,0.543,0.5043,0.4706,0.4412,0.4153,0.3922,0.3716,0.353,0.3362,0.3209,0.3069,0.2941,0.2824,0.2715,0.2615,0.2521,0.2353,0.2206,0.2076,0.1961,0.1858]\n",
    "    \n",
    "    Rho = np.interp(T, Tp, Rho_p)\n",
    "    return Rho"
   ]
  },
  {
   "cell_type": "code",
   "execution_count": 5,
   "metadata": {},
   "outputs": [
    {
     "data": {
      "text/plain": [
       "1.55016"
      ]
     },
     "execution_count": 5,
     "metadata": {},
     "output_type": "execute_result"
    }
   ],
   "source": [
    "densityAir(228)"
   ]
  },
  {
   "cell_type": "code",
   "execution_count": 6,
   "metadata": {
    "collapsed": true
   },
   "outputs": [],
   "source": [
    "def dynamicViscAir(T):\n",
    "    \n",
    "    Tp = [175,200,225,250,275,300,325,350,375,400,450,500,550,600,650,700,750,800,850,900,950,1000,1050,1100,1150,1200,1250,1300,1350,1400,1500,1600,1700,1800,1900]\n",
    "    mu_p = [1.182,1.329,1.467,1.599,1.725,1.846,1.962,2.075,2.181,2.286,2.485,2.67,2.849,3.017,3.178,3.332,3.482,3.624,3.763,3.897,4.026,4.153,4.276,4.396,4.511,4.626,4.736,4.846,4.952,5.057,5.264,5.457,5.646,5.829,6.008]\n",
    "\n",
    "    \n",
    "    mu = np.interp(T, Tp, mu_p)\n",
    "    return mu*1e-5"
   ]
  },
  {
   "cell_type": "code",
   "execution_count": 7,
   "metadata": {},
   "outputs": [
    {
     "data": {
      "text/plain": [
       "1.8599200000000003e-05"
      ]
     },
     "execution_count": 7,
     "metadata": {},
     "output_type": "execute_result"
    }
   ],
   "source": [
    "dynamicViscAir(303)"
   ]
  },
  {
   "cell_type": "code",
   "execution_count": 8,
   "metadata": {
    "collapsed": true
   },
   "outputs": [],
   "source": [
    "def spHeatAir(T):\n",
    "#     return 1005\n",
    "\n",
    "    Tp = [175,200,225,250,275,300,325,350,375,400,450,500,550,600,650,700,750,800,850,900,950,1000,1050,1100,1150,1200,1250,1300,1350,1400,1500,1600,1700,1800,1900]\n",
    "    C_p_p = [1.0023,1.0025,1.0027,1.0031,1.0038,1.0049,1.0063,1.0082,1.0106,1.0135,1.0206,1.0295,1.0398,1.0511,1.0629,1.075,1.087,1.0987,1.1101,1.1209,1.1313,1.1411,1.1502,1.1589,1.167,1.1746,1.1817,1.1884,1.1946,1.2005,1.2112,1.2207,1.2293,1.237,1.244]\n",
    "    \n",
    "    C_p = np.interp(T, Tp, C_p_p)\n",
    "    return C_p*1e3"
   ]
  },
  {
   "cell_type": "code",
   "execution_count": 9,
   "metadata": {},
   "outputs": [
    {
     "data": {
      "text/plain": [
       "1003.7439999999999"
      ]
     },
     "execution_count": 9,
     "metadata": {},
     "output_type": "execute_result"
    }
   ],
   "source": [
    "spHeatAir(273)"
   ]
  },
  {
   "cell_type": "code",
   "execution_count": 10,
   "metadata": {
    "collapsed": true
   },
   "outputs": [],
   "source": [
    "def thermalcondAir(T):\n",
    "    k = 1.5207e-11*np.power(T,3) - 4.8574e-8*np.power(T,2) + 1.0184e-4*T - 3.9333e-4\n",
    "    \n",
    "    return k"
   ]
  },
  {
   "cell_type": "code",
   "execution_count": 11,
   "metadata": {},
   "outputs": [
    {
     "data": {
      "text/plain": [
       "0.024098226317319001"
      ]
     },
     "execution_count": 11,
     "metadata": {},
     "output_type": "execute_result"
    }
   ],
   "source": [
    "thermalcondAir(273)"
   ]
  },
  {
   "cell_type": "markdown",
   "metadata": {},
   "source": [
    "Properties - Water"
   ]
  },
  {
   "cell_type": "code",
   "execution_count": 12,
   "metadata": {
    "collapsed": true
   },
   "outputs": [],
   "source": [
    "def dynamicViscWater(T):\n",
    "    \n",
    "    T = T - 273.15\n",
    "    Tp = [2,3,4,5,6,7,8,9,10,11,12,13,14,15,16,17,18,19,20,21,22,23,24,25,26,27,28,29,30,31,32,33,34,35,36,37,38,39,40,45,50,55,60,65,70,75,80]\n",
    "    mu_p = [0.0016735,0.001619,0.0015673,0.0015182,0.0014715,0.0014271,0.0013847,0.0013444,0.0013059,0.0012692,0.001234,0.0012005,0.0011683,0.0011375,0.0011081,0.0010798,0.0010526,0.0010266,0.0010016,0.0009775,0.0009544,0.0009321,0.0009107,0.00089,0.0008701,0.0008509,0.0008324,0.0008145,0.0007972,0.0007805,0.0007644,0.0007488,0.0007337,0.0007191,0.000705,0.0006913,0.000678,0.0006652,0.0006527,0.0005958,0.0005465,0.0005036,0.000466,0.0004329,0.0004035,0.0003774,0.000354]\n",
    "    \n",
    "    mu = np.interp(T, Tp, mu_p)\n",
    "    return mu"
   ]
  },
  {
   "cell_type": "code",
   "execution_count": 13,
   "metadata": {},
   "outputs": [
    {
     "data": {
      "text/plain": [
       "0.0007972"
      ]
     },
     "execution_count": 13,
     "metadata": {},
     "output_type": "execute_result"
    }
   ],
   "source": [
    "dynamicViscWater(303.15)"
   ]
  },
  {
   "cell_type": "code",
   "execution_count": 14,
   "metadata": {
    "collapsed": true
   },
   "outputs": [],
   "source": [
    "def densityWater(T):\n",
    "     \n",
    "    T = T - 273.15\n",
    "    Tp = [0,1,2,3,4,5,6,7,8,9,10,11,12,13,14,15,16,17,18,19,20,21,22,23,24,25,26,27,28,29,30,31,32,33,34,35,36,37,38,39,40,41,42,43,44,45,46,47,48,49,50,51,52,53,54,55,56,57,58,59,60,61,62,63,64,65,66,67,68,69,70,71,72,73,74,75,76,77,78,79,80,81,82,83,84,85,86,87,88,89,90,91,92,93,94,95,96,97,98,99,100]\n",
    "    \n",
    "    rho_p = [999.82,999.89,999.94,999.98,1000,1000,999.99,999.96,999.91,999.85,999.77,999.68,999.58,999.46,999.33,999.19,999.03,998.86,998.68,998.49,998.29,998.08,997.86,997.62,997.38,997.13,996.86,996.59,996.31,996.02,995.71,995.41,995.09,994.76,994.43,994.08,993.73,993.37,993,992.63,992.25,991.86,991.46,991.05,990.64,990.22,989.8,989.36,988.92,988.47,988.02,987.56,987.09,986.62,986.14,985.65,985.16,984.66,984.16,983.64,983.13,982.6,982.07,981.54,981,980.45,979.9,979.34,978.78,978.21,977.63,977.05,976.47,975.88,975.28,974.68,974.08,973.46,972.85,972.23,971.6,970.97,970.33,969.69,969.04,968.39,967.73,967.07,966.41,965.74,965.06,964.38,963.7,963.01,962.31,961.62,960.91,960.2,959.49,958.78,958.05]\n",
    "    \n",
    "    rho = np.interp(T, Tp, rho_p)\n",
    "\n",
    "#     rho = 765.33 + 1.8142*T - 0.0035*np.square(T)\n",
    "    \n",
    "    return rho"
   ]
  },
  {
   "cell_type": "code",
   "execution_count": 15,
   "metadata": {},
   "outputs": [
    {
     "data": {
      "text/plain": [
       "958.05"
      ]
     },
     "execution_count": 15,
     "metadata": {},
     "output_type": "execute_result"
    }
   ],
   "source": [
    "densityWater(3900)"
   ]
  },
  {
   "cell_type": "code",
   "execution_count": 16,
   "metadata": {
    "collapsed": true
   },
   "outputs": [],
   "source": [
    "def spheatWater(T):\n",
    "    \n",
    "    T = T - 273.15\n",
    "    Tp = [0.01,10,20,25,30,40,50,60,70,80,90,100,110,120,140,160,180,200,220,240,260,280,300,320,340,360]\n",
    "    C_p_p = [4.2199,4.1955,4.1844,4.1816,4.1801,4.1796,4.1815,4.1851,4.1902,4.1969,4.2053,4.2157,4.2283,4.2435,4.2826,4.3354,4.405,4.4958,4.6146,4.7719,4.9856,5.2889,5.7504,6.5373,8.208,15.004]\n",
    "    \n",
    "    C_p = np.interp(T, Tp, C_p_p)\n",
    "    return C_p*1000"
   ]
  },
  {
   "cell_type": "code",
   "execution_count": 17,
   "metadata": {},
   "outputs": [
    {
     "data": {
      "text/plain": [
       "4189.95"
      ]
     },
     "execution_count": 17,
     "metadata": {},
     "output_type": "execute_result"
    }
   ],
   "source": [
    "spheatWater(273.15+15)"
   ]
  },
  {
   "cell_type": "code",
   "execution_count": 18,
   "metadata": {
    "collapsed": true
   },
   "outputs": [],
   "source": [
    "def thermalcondWater(T):\n",
    "    \n",
    "    Tp = [273.15,280,285,295,305,315,325,335,345,355,365,373.15]\n",
    "    kp = [0.569,0.582,0.59,0.606,0.62,0.634,0.645,0.656,0.668,0.671,0.677,0.68]\n",
    "    \n",
    "    k = np.interp(T,Tp,kp)\n",
    "    return k\n",
    "    "
   ]
  },
  {
   "cell_type": "code",
   "execution_count": 19,
   "metadata": {},
   "outputs": [
    {
     "data": {
      "text/plain": [
       "0.62441"
      ]
     },
     "execution_count": 19,
     "metadata": {},
     "output_type": "execute_result"
    }
   ],
   "source": [
    "thermalcondWater(273.15+35)"
   ]
  },
  {
   "cell_type": "markdown",
   "metadata": {},
   "source": [
    "Dimentionless Quantities"
   ]
  },
  {
   "cell_type": "code",
   "execution_count": 20,
   "metadata": {
    "collapsed": true
   },
   "outputs": [],
   "source": [
    "def PrandtlAir(T):\n",
    "\n",
    "    Tp = [175,200,225,250,275,300,325,350,375,400,450,500,550,600,650,700,750,800,850,900,950,1000,1050,1100,1150,1200,1250,1300,1350,1400,1500,1600,1700,1800,1900]\n",
    "    Pr_p = [0.744,0.736,0.728,0.72,0.713,0.707,0.701,0.697,0.692,0.688,0.684,0.68,0.68,0.68,0.682,0.684,0.687,0.69,0.693,0.696,0.699,0.702,0.704,0.707,0.709,0.711,0.713,0.715,0.717,0.719,0.722,0.724,0.726,0.728,0.73]\n",
    "    \n",
    "    Pr = np.interp(T, Tp, Pr_p)\n",
    "    return Pr"
   ]
  },
  {
   "cell_type": "code",
   "execution_count": 21,
   "metadata": {},
   "outputs": [
    {
     "data": {
      "text/plain": [
       "0.7093999999999999"
      ]
     },
     "execution_count": 21,
     "metadata": {},
     "output_type": "execute_result"
    }
   ],
   "source": [
    "PrandtlAir(290)"
   ]
  },
  {
   "cell_type": "code",
   "execution_count": 22,
   "metadata": {
    "collapsed": true
   },
   "outputs": [],
   "source": [
    "def ReynoldsAir(T, V, d):\n",
    "    \n",
    "    rho = densityAir(T)\n",
    "    mu = dynamicViscAir(T)\n",
    "    \n",
    "    Re = rho*V*d/mu\n",
    "    \n",
    "    return Re    "
   ]
  },
  {
   "cell_type": "code",
   "execution_count": 23,
   "metadata": {},
   "outputs": [
    {
     "data": {
      "text/plain": [
       "15939.869989165762"
      ]
     },
     "execution_count": 23,
     "metadata": {},
     "output_type": "execute_result"
    }
   ],
   "source": [
    "ReynoldsAir(300, 5, 0.05)"
   ]
  },
  {
   "cell_type": "code",
   "execution_count": 24,
   "metadata": {
    "collapsed": true
   },
   "outputs": [],
   "source": [
    "def RayleighAir(Ts, Tinf, x):\n",
    "    \n",
    "    Tm = (Ts + Tinf)/2\n",
    "    \n",
    "    g = 9.806\n",
    "    \n",
    "    beta = 1/Tm\n",
    "    \n",
    "    nu = kinematicViscAir(Tm)\n",
    "    alpha = thermalcondAir(Tm) / (densityAir(Tm)*spHeatAir(Tm))\n",
    "    \n",
    "    Ra = g * beta * (Ts - Tinf) * np.power(x,3) / (nu*alpha)\n",
    "    \n",
    "    return Ra"
   ]
  },
  {
   "cell_type": "code",
   "execution_count": 25,
   "metadata": {},
   "outputs": [
    {
     "data": {
      "text/plain": [
       "250862.24244086311"
      ]
     },
     "execution_count": 25,
     "metadata": {},
     "output_type": "execute_result"
    }
   ],
   "source": [
    "RayleighAir(323, 298, 0.05)"
   ]
  },
  {
   "cell_type": "code",
   "execution_count": 26,
   "metadata": {
    "collapsed": true
   },
   "outputs": [],
   "source": [
    "def ReynoldsWater(T, V, d):\n",
    "    \n",
    "    rho = densityWater(T)\n",
    "    mu = dynamicViscWater(T)\n",
    "    \n",
    "    Re = rho*V*d/mu\n",
    "    print(mu)\n",
    "    return Re    "
   ]
  },
  {
   "cell_type": "code",
   "execution_count": 27,
   "metadata": {},
   "outputs": [
    {
     "name": "stdout",
     "output_type": "stream",
     "text": [
      "0.000354\n"
     ]
    },
    {
     "data": {
      "text/plain": [
       "6765.889830508475"
      ]
     },
     "execution_count": 27,
     "metadata": {},
     "output_type": "execute_result"
    }
   ],
   "source": [
    "ReynoldsWater(400, 0.1, 0.025)"
   ]
  },
  {
   "cell_type": "code",
   "execution_count": 28,
   "metadata": {
    "collapsed": true
   },
   "outputs": [],
   "source": [
    "def PrandtlWater(T):\n",
    "    \n",
    "#     mu = dynamicViscWater(T)\n",
    "#     Cp = spheatWater(T)\n",
    "#     k = thermalcondWater(T)\n",
    "    \n",
    "#     print (mu, Cp, k)\n",
    "#     Pr = mu*Cp/k\n",
    "    \n",
    "    T = T - 273.15\n",
    "    \n",
    "    Tp = [0.01,10,20,30,40,50,60,70,80,90,100,120,140,160,180,200,220,240,260]\n",
    "    Pr_p = [13.67,9.47,7.01,5.43,4.34,3.56,2.99,2.56,2.23,1.96,1.75,1.45,1.25,1.09,0.98,0.92,0.88,0.87,0.87]\n",
    "    \n",
    "    \n",
    "    Pr = np.interp(T, Tp, Pr_p)\n",
    "    return Pr"
   ]
  },
  {
   "cell_type": "code",
   "execution_count": 29,
   "metadata": {},
   "outputs": [
    {
     "data": {
      "text/plain": [
       "2.23"
      ]
     },
     "execution_count": 29,
     "metadata": {},
     "output_type": "execute_result"
    }
   ],
   "source": [
    "PrandtlWater(273.15+80)"
   ]
  },
  {
   "cell_type": "code",
   "execution_count": null,
   "metadata": {
    "collapsed": true
   },
   "outputs": [],
   "source": []
  },
  {
   "cell_type": "code",
   "execution_count": null,
   "metadata": {
    "collapsed": true
   },
   "outputs": [],
   "source": []
  },
  {
   "cell_type": "code",
   "execution_count": null,
   "metadata": {
    "collapsed": true
   },
   "outputs": [],
   "source": []
  },
  {
   "cell_type": "code",
   "execution_count": null,
   "metadata": {
    "collapsed": true
   },
   "outputs": [],
   "source": []
  },
  {
   "cell_type": "code",
   "execution_count": null,
   "metadata": {
    "collapsed": true
   },
   "outputs": [],
   "source": []
  },
  {
   "cell_type": "markdown",
   "metadata": {
    "collapsed": true
   },
   "source": [
    "Convection Heat Transfer Coefficients"
   ]
  },
  {
   "cell_type": "code",
   "execution_count": 30,
   "metadata": {
    "collapsed": true
   },
   "outputs": [],
   "source": [
    "def hc_ext_no_wind(Tg, Tamb, D_g_ext):\n",
    "    \n",
    "    Tm = (Tg + Tamb)/2\n",
    "    \n",
    "    Ra = RayleighAir(Tg, Tamb, D_g_ext)\n",
    "    Pr = PrandtlAir(Tm)\n",
    "    k = thermalcondAir(Tm)\n",
    "    \n",
    "    temp = np.power(0.559/Pr, 9/16)\n",
    "    temp = np.power(1 + temp, 16/9)\n",
    "    temp = np.power(Ra/temp, 1/6)\n",
    "    temp = np.power(0.6 + 0.387*temp, 2) * k/D_g_ext\n",
    "    \n",
    "    hc_ext = temp\n",
    "    return hc_ext"
   ]
  },
  {
   "cell_type": "code",
   "execution_count": 31,
   "metadata": {},
   "outputs": [
    {
     "data": {
      "text/plain": [
       "5.3578250825025808"
      ]
     },
     "execution_count": 31,
     "metadata": {},
     "output_type": "execute_result"
    }
   ],
   "source": [
    "hc_ext_no_wind(323, 298, 0.05)"
   ]
  },
  {
   "cell_type": "code",
   "execution_count": 32,
   "metadata": {
    "collapsed": true
   },
   "outputs": [],
   "source": [
    "def hc_ext_wind(Tg, Tamb, D_g_ext, V):\n",
    "    \n",
    "    Re = ReynoldsAir(Tamb, V, D_g_ext)\n",
    "    Pr = PrandtlAir(Tamb)\n",
    "    Pr_g = PrandtlAir(Tg)\n",
    "    k = thermalcondAir(Tamb)\n",
    "    \n",
    "    if (1 < Re and Re <= 40):\n",
    "        C = 0.75\n",
    "        n = 0.4\n",
    "    elif (40 < Re and Re <= 1e3):\n",
    "        C = 0.51\n",
    "        n = 0.5\n",
    "    elif (1e3 < Re and Re <= 2e5):\n",
    "        C = 0.26\n",
    "        n = 0.6\n",
    "    elif (2e5 < Re and Re <= 1e6):\n",
    "        C = 0.076\n",
    "        n = 0.7\n",
    "    else:\n",
    "        print(\"constants C and n cannot be determined for the valur of Re_air\")\n",
    "        \n",
    "    if (Pr <= 10):\n",
    "        m = 0.37\n",
    "    else:\n",
    "        m = 0.36    \n",
    "    \n",
    "    \n",
    "    hc_ext = C * np.power(Re, n) * np.power(Pr, m) * np.power(Pr/Pr_g, 1/4) * k/D_g_ext\n",
    "    \n",
    "    return hc_ext"
   ]
  },
  {
   "cell_type": "code",
   "execution_count": 33,
   "metadata": {},
   "outputs": [
    {
     "data": {
      "text/plain": [
       "23.068146423993298"
      ]
     },
     "execution_count": 33,
     "metadata": {},
     "output_type": "execute_result"
    }
   ],
   "source": [
    "hc_ext_wind(323, 298, 0.05, 2)"
   ]
  },
  {
   "cell_type": "code",
   "execution_count": 34,
   "metadata": {
    "collapsed": true
   },
   "outputs": [],
   "source": [
    "def hc_int(Tab, Tg, D_g_int, D_ab_ext):\n",
    "    \n",
    "    Tm = (Tab + Tg)/2\n",
    "    \n",
    "    k = thermalcondAir(Tm)\n",
    "    Pr = PrandtlAir(Tm)\n",
    "    L_eff = (D_g_int - D_ab_ext) / 2\n",
    "    Ra_eff = RayleighAir(Tab, Tg, L_eff)\n",
    "    \n",
    "    \n",
    "    Ra_c = np.power(np.log(D_g_int / D_ab_ext), 4) / ( np.power(L_eff, 3) * np.power ( np.power(D_ab_ext, -3/5) + np.power(D_g_int, -3/5), 5 ) ) * Ra_eff\n",
    "    \n",
    "    k_eff = 0.386*k * np.power( Pr / (0.861 + Pr) ,1/4) * np.power(Ra_c, 1/4)\n",
    "    \n",
    "    h_c_int = 2*k_eff/ (D_ab_ext * np.log(D_g_int/D_ab_ext))\n",
    "    \n",
    "    return h_c_int"
   ]
  },
  {
   "cell_type": "code",
   "execution_count": 35,
   "metadata": {},
   "outputs": [
    {
     "data": {
      "text/plain": [
       "7.0609970315702704"
      ]
     },
     "execution_count": 35,
     "metadata": {},
     "output_type": "execute_result"
    }
   ],
   "source": [
    "hc_int(473, 310, 0.047, 0.025)"
   ]
  },
  {
   "cell_type": "code",
   "execution_count": 36,
   "metadata": {
    "collapsed": true
   },
   "outputs": [],
   "source": [
    "def hu_f(Tf, Tab, D_ab_int, mdot, L):\n",
    "    \n",
    "    rho = densityWater(Tf)\n",
    "    \n",
    "    V = 4*mdot / (rho*np.pi*np.square(D_ab_int))\n",
    "    \n",
    "    Re = ReynoldsWater(Tf, V, D_ab_int)\n",
    "    \n",
    "    k = thermalcondWater(Tf)\n",
    "    d = D_ab_int / L\n",
    "    \n",
    "    \n",
    "    Pr = PrandtlWater(Tf)\n",
    "    Pr_ab = PrandtlWater(Tab)\n",
    "    \n",
    "    if (Re < 2300):\n",
    "        \n",
    "        \n",
    "        Nu_f = 1.615*np.power(Re*Pr*d, 1/3) - 0.7\n",
    "        Nu_f = np.power(Nu_f, 3) + np.power(3.66, 3) + np.power(0.7, 3)\n",
    "        \n",
    "        Nu_fl = 2/(1+22*Pr)\n",
    "        Nu_fl = np.power(Nu_fl, 1/6)*np.power(Re*Pr*d, 1/2)\n",
    "        Nu_fl = np.power(Nu_fl, 3) + Nu_f\n",
    "        \n",
    "        Nu_f = np.power(Nu_f, 1/3)\n",
    "        \n",
    "#         Nu_f = np.power( np.power(3.66, 3) + np.power(0.7, 3) + np.power(1.615*np.power(Re * Pr * d, 1/3) - 0.7 , 3)  + np.power( np.power(2/(1 + 22*Pr),1/6) * np.power(Re * Pr * d, 1/2), 3), 1/3)\n",
    "\n",
    "\n",
    "#         Nu_f = 4.36\n",
    "        \n",
    "        hu_f = k * Nu_f / D_ab_int\n",
    "        print(\"laminar\")\n",
    "        \n",
    "  \n",
    "    elif (Re > 4000):\n",
    "\n",
    "        f = np.power(1.8 * np.log( Re) - 1.5, -2)\n",
    "#         f = np.power(1.84 * np.log10( Re) - 1.64, -2)\n",
    "        \n",
    "        Nu_f = ((f/8) * (Re - 1000) * (1 + np.power(d, 2/3)) * Pr) / (1 + 12.7*np.sqrt(f/8) * (np.power(Pr, 2/3) - 1)) * np.power(Pr/Pr_ab, 0.11)\n",
    "        \n",
    "        hu_f = k * Nu_f / D_ab_int\n",
    "        print(\"turbulent\")\n",
    "        \n",
    "    \n",
    "    else:\n",
    "        eta = (Re - 2300) / (4000 - 2300)\n",
    "        d = 0.0001\n",
    "        Pr = 0.7\n",
    "        f = np.power(1.8 * np.log( Re) - 1.5, -2)\n",
    "        Nu_l = np.power( np.power(3.66, 3) + np.power(0.7, 3) + np.power(1.615*np.power(Re * Pr * d, 1/3) - 0.7 , 3)  + np.power( np.power(2/(1 + 22*Pr),1/6) * np.power(Re * Pr * d, 1/2), 3), 1/3)\n",
    "        \n",
    "        Nu_t = ((f/8) * (4000 - 1000) * (1 + np.power(d, 2/3)) * Pr) / (1 + 12.7*np.sqrt(f/8) * (np.power(Pr, 2/3) - 1))\n",
    "\n",
    "#         Nu_f = (1-eta)*Nu_l + eta*Nu_t\n",
    "        Nu_f = (eta)*Nu_l + (1-eta)*Nu_t\n",
    "    \n",
    "        hu_f = k * Nu_f / D_ab_int\n",
    "        print(\"transition\", (eta))\n",
    "    \n",
    "    return hu_f, rho, V, Re, Pr, Pr_ab,k\n"
   ]
  },
  {
   "cell_type": "code",
   "execution_count": 37,
   "metadata": {},
   "outputs": [
    {
     "name": "stdout",
     "output_type": "stream",
     "text": [
      "0.000354\n",
      "turbulent\n"
     ]
    },
    {
     "data": {
      "text/plain": [
       "(1572.9597596738847,\n",
       " 958.05,\n",
       " 1.4672057381009544,\n",
       " 99269.523826809294,\n",
       " 1.6472499999999997,\n",
       " 0.9594499999999999,\n",
       " 0.68)"
      ]
     },
     "execution_count": 37,
     "metadata": {},
     "output_type": "execute_result"
    }
   ],
   "source": [
    "hu_f(380, 460, 0.025, 0.69, 1)"
   ]
  },
  {
   "cell_type": "code",
   "execution_count": 38,
   "metadata": {
    "collapsed": true
   },
   "outputs": [],
   "source": [
    "range1 = lambda start, end: range(start, end+1)"
   ]
  },
  {
   "cell_type": "markdown",
   "metadata": {
    "collapsed": true
   },
   "source": [
    "Code"
   ]
  },
  {
   "cell_type": "code",
   "execution_count": 49,
   "metadata": {},
   "outputs": [],
   "source": [
    "L = 1        # Length of the aperture\n",
    "P = 10       # No. of Sections\n",
    "N = 3*(P+1)  # No. of Nodes\n",
    "\n",
    "\n",
    "# Specify Irradiation\n",
    "I = 1000     # W/m2\n",
    "\n",
    "# Specify Inlet temperatures\n",
    "\n",
    "\n",
    "T_a = 30 + 273.15    # Ambient Temperature\n",
    "\n",
    "# Initialize Temperature vector\n",
    "T_old = np.ones(N+1)\n",
    "\n",
    "T_old[1] = Ta\n",
    "T_old[P+2] = Ta\n",
    "T_old[2*P+3] = Ta\n",
    "\n",
    "# Initialize the nodal values to the respective inlet temperature\n",
    "for i in range1(2, P+1):\n",
    "    T_old[i] = T_a                 # Glass nodes\n",
    "\n",
    "for i in range1(P+3, 2*P+2):\n",
    "    T_old[i] = T_a                 # Absorber nodes\n",
    "\n",
    "for i in range1(2*P+4, 3*P+3):\n",
    "    T_old[i] = T_a                 # Fluid nodes"
   ]
  },
  {
   "cell_type": "code",
   "execution_count": 50,
   "metadata": {},
   "outputs": [
    {
     "name": "stdout",
     "output_type": "stream",
     "text": [
      "[   1.    303.15  303.15  303.15  303.15  303.15  303.15  303.15  303.15\n",
      "  303.15  303.15  303.15  303.15  303.15  303.15  303.15  303.15  303.15\n",
      "  303.15  303.15  303.15  303.15  303.15  303.15  303.15  303.15  303.15\n",
      "  303.15  303.15  303.15  303.15  303.15  303.15  303.15]\n"
     ]
    }
   ],
   "source": [
    "print(T_old)"
   ]
  },
  {
   "cell_type": "markdown",
   "metadata": {
    "collapsed": true
   },
   "source": [
    "Coefficient Matrix"
   ]
  },
  {
   "cell_type": "code",
   "execution_count": null,
   "metadata": {
    "collapsed": true
   },
   "outputs": [],
   "source": [
    "+"
   ]
  },
  {
   "cell_type": "code",
   "execution_count": null,
   "metadata": {
    "collapsed": true
   },
   "outputs": [],
   "source": []
  },
  {
   "cell_type": "code",
   "execution_count": null,
   "metadata": {
    "collapsed": true
   },
   "outputs": [],
   "source": []
  },
  {
   "cell_type": "code",
   "execution_count": null,
   "metadata": {
    "collapsed": true
   },
   "outputs": [],
   "source": []
  },
  {
   "cell_type": "code",
   "execution_count": null,
   "metadata": {
    "collapsed": true
   },
   "outputs": [],
   "source": []
  },
  {
   "cell_type": "code",
   "execution_count": null,
   "metadata": {
    "collapsed": true
   },
   "outputs": [],
   "source": []
  },
  {
   "cell_type": "code",
   "execution_count": null,
   "metadata": {
    "collapsed": true
   },
   "outputs": [],
   "source": []
  },
  {
   "cell_type": "code",
   "execution_count": null,
   "metadata": {
    "collapsed": true
   },
   "outputs": [],
   "source": []
  },
  {
   "cell_type": "code",
   "execution_count": null,
   "metadata": {
    "collapsed": true
   },
   "outputs": [],
   "source": []
  }
 ],
 "metadata": {
  "kernelspec": {
   "display_name": "Python 3",
   "language": "python",
   "name": "python3"
  },
  "language_info": {
   "codemirror_mode": {
    "name": "ipython",
    "version": 3
   },
   "file_extension": ".py",
   "mimetype": "text/x-python",
   "name": "python",
   "nbconvert_exporter": "python",
   "pygments_lexer": "ipython3",
   "version": "3.6.3"
  }
 },
 "nbformat": 4,
 "nbformat_minor": 2
}
