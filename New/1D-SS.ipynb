{
 "cells": [
  {
   "cell_type": "code",
   "execution_count": 20,
   "metadata": {
    "collapsed": true
   },
   "outputs": [],
   "source": [
    "import numpy as np"
   ]
  },
  {
   "cell_type": "markdown",
   "metadata": {},
   "source": [
    "Properties - Air"
   ]
  },
  {
   "cell_type": "code",
   "execution_count": 28,
   "metadata": {
    "collapsed": true
   },
   "outputs": [],
   "source": [
    "def kinematicViscAir(T):\n",
    "    \n",
    "    nu = -1.1555e-14*np.power(T,3) + 9.5728e-11*np.power(T,2) + 3.7604e-08*T - 3.4484e-06\n",
    "    \n",
    "    return nu\n",
    "     "
   ]
  },
  {
   "cell_type": "code",
   "execution_count": 45,
   "metadata": {},
   "outputs": [
    {
     "data": {
      "text/plain": [
       "1.7345702480164998e-05"
      ]
     },
     "execution_count": 45,
     "metadata": {},
     "output_type": "execute_result"
    }
   ],
   "source": [
    "kinematicViscAir(40+273)"
   ]
  },
  {
   "cell_type": "code",
   "execution_count": 43,
   "metadata": {},
   "outputs": [],
   "source": [
    "def densityAir(T):\n",
    "    \n",
    "    T = T - 273.15\n",
    "    Tp = [0, 5, 10, 15, 20, 25, 30, 35, 40]\n",
    "    Rhop = [1.292, 1.269, 1.247, 1.225, 1.204, 1.184, 1.164, 1.146, 1.127]\n",
    "    rho = np.interp(T, Tp, Rhop)\n",
    "    \n",
    "    return rho"
   ]
  },
  {
   "cell_type": "code",
   "execution_count": 44,
   "metadata": {},
   "outputs": [
    {
     "data": {
      "text/plain": [
       "1.12757"
      ]
     },
     "execution_count": 44,
     "metadata": {},
     "output_type": "execute_result"
    }
   ],
   "source": [
    "densityAir(40+273)"
   ]
  },
  {
   "cell_type": "code",
   "execution_count": 47,
   "metadata": {},
   "outputs": [],
   "source": [
    "def dynamicViscAir(T):\n",
    "    \n",
    "    mu = kinematicViscAir(T)*densityAir(T)\n",
    "    \n",
    "    return mu"
   ]
  },
  {
   "cell_type": "code",
   "execution_count": 76,
   "metadata": {},
   "outputs": [
    {
     "data": {
      "text/plain": [
       "1.8986011760999998e-05"
      ]
     },
     "execution_count": 76,
     "metadata": {},
     "output_type": "execute_result"
    }
   ],
   "source": [
    "dynamicViscAir(300)"
   ]
  },
  {
   "cell_type": "code",
   "execution_count": 64,
   "metadata": {},
   "outputs": [],
   "source": [
    "def spHeatAir(T):\n",
    "#     return 1005\n",
    "    \n",
    "    C_p = 1.9327e-10*np.power(T,4) - 7.9999e-07*np.power(T,3) + 1.1407e-3*np.power(T,2) - 4.4890e-01*T + 1.0575e03\n",
    "    return C_p"
   ]
  },
  {
   "cell_type": "code",
   "execution_count": 74,
   "metadata": {},
   "outputs": [
    {
     "data": {
      "text/plain": [
       "1003.9320439345821"
      ]
     },
     "execution_count": 74,
     "metadata": {},
     "output_type": "execute_result"
    }
   ],
   "source": [
    "spHeatAir(273)"
   ]
  },
  {
   "cell_type": "code",
   "execution_count": 68,
   "metadata": {
    "collapsed": true
   },
   "outputs": [],
   "source": [
    "def thermalcondAir(T):\n",
    "    k = 1.5207e-11*np.power(T,3) - 4.8574e-8*np.power(T,2) + 1.0184e-4*T - 3.9333e-4\n",
    "    \n",
    "    return k"
   ]
  },
  {
   "cell_type": "code",
   "execution_count": 73,
   "metadata": {},
   "outputs": [
    {
     "data": {
      "text/plain": [
       "0.024098226317319001"
      ]
     },
     "execution_count": 73,
     "metadata": {},
     "output_type": "execute_result"
    }
   ],
   "source": [
    "thermalcondAir(273)"
   ]
  },
  {
   "cell_type": "markdown",
   "metadata": {},
   "source": [
    "Properties - Water"
   ]
  },
  {
   "cell_type": "code",
   "execution_count": 79,
   "metadata": {
    "collapsed": true
   },
   "outputs": [],
   "source": [
    "def dynamicViscWater(T):\n",
    "    \n",
    "    T = T - 273.15\n",
    "    Tp = [2,3,4,5,6,7,8,9,10,11,12,13,14,15,16,17,18,19,20,21,22,23,24,25,26,27,28,29,30,31,32,33,34,35,36,37,38,39,40,45,50,55,60,65,70,75,80]\n",
    "    mu_p = [0.0016735,0.001619,0.0015673,0.0015182,0.0014715,0.0014271,0.0013847,0.0013444,0.0013059,0.0012692,0.001234,0.0012005,0.0011683,0.0011375,0.0011081,0.0010798,0.0010526,0.0010266,0.0010016,0.0009775,0.0009544,0.0009321,0.0009107,0.00089,0.0008701,0.0008509,0.0008324,0.0008145,0.0007972,0.0007805,0.0007644,0.0007488,0.0007337,0.0007191,0.000705,0.0006913,0.000678,0.0006652,0.0006527,0.0005958,0.0005465,0.0005036,0.000466,0.0004329,0.0004035,0.0003774,0.000354]\n",
    "    \n",
    "    mu = np.interp(T, Tp, mu_p)\n",
    "    return mu"
   ]
  },
  {
   "cell_type": "code",
   "execution_count": 80,
   "metadata": {},
   "outputs": [
    {
     "data": {
      "text/plain": [
       "0.0007972"
      ]
     },
     "execution_count": 80,
     "metadata": {},
     "output_type": "execute_result"
    }
   ],
   "source": [
    "dynamicViscWater(303.15)"
   ]
  },
  {
   "cell_type": "code",
   "execution_count": 114,
   "metadata": {
    "collapsed": true
   },
   "outputs": [],
   "source": [
    "def densityWater(T):\n",
    "     \n",
    "    T = T - 273.15\n",
    "    Tp = [0,1,2,3,4,5,6,7,8,9,10,11,12,13,14,15,16,17,18,19,20,21,22,23,24,25,26,27,28,29,30,31,32,33,34,35,36,37,38,39,40,41,42,43,44,45,46,47,48,49,50,51,52,53,54,55,56,57,58,59,60,61,62,63,64,65,66,67,68,69,70,71,72,73,74,75,76,77,78,79,80,81,82,83,84,85,86,87,88,89,90,91,92,93,94,95,96,97,98,99,100]\n",
    "    \n",
    "    rho_p = [999.82,999.89,999.94,999.98,1000,1000,999.99,999.96,999.91,999.85,999.77,999.68,999.58,999.46,999.33,999.19,999.03,998.86,998.68,998.49,998.29,998.08,997.86,997.62,997.38,997.13,996.86,996.59,996.31,996.02,995.71,995.41,995.09,994.76,994.43,994.08,993.73,993.37,993,992.63,992.25,991.86,991.46,991.05,990.64,990.22,989.8,989.36,988.92,988.47,988.02,987.56,987.09,986.62,986.14,985.65,985.16,984.66,984.16,983.64,983.13,982.6,982.07,981.54,981,980.45,979.9,979.34,978.78,978.21,977.63,977.05,976.47,975.88,975.28,974.68,974.08,973.46,972.85,972.23,971.6,970.97,970.33,969.69,969.04,968.39,967.73,967.07,966.41,965.74,965.06,964.38,963.7,963.01,962.31,961.62,960.91,960.2,959.49,958.78,958.05]\n",
    "    \n",
    "    rho = np.interp(T, Tp, rho_p)\n",
    "\n",
    "#     rho = 765.33 + 1.8142*T - 0.0035*np.square(T)\n",
    "    \n",
    "    return rho"
   ]
  },
  {
   "cell_type": "code",
   "execution_count": 116,
   "metadata": {},
   "outputs": [
    {
     "data": {
      "text/plain": [
       "958.05"
      ]
     },
     "execution_count": 116,
     "metadata": {},
     "output_type": "execute_result"
    }
   ],
   "source": [
    "densityWater(3900)"
   ]
  },
  {
   "cell_type": "code",
   "execution_count": 107,
   "metadata": {},
   "outputs": [],
   "source": [
    "def spheatWater(T):\n",
    "    \n",
    "    T = T - 273.15\n",
    "    Tp = [0,1,2,3,4,5,6,7,8,9,10,11,12,13,14,15,16,17,18,19,20,21,22,23,24,25,26,27,28,29,30,31,32,33,34,35,36,37,38,39,40,41,42,43,44,45,46,47,48,49,50,51,52,53,54,55,56,57,58,59,60,61,62,63,64,65,66,67,68,69,70,71,72,73,74,75,76,77,78,79,80,81,82,83,84,85,86,87,88,89,90,91,92,93,94,95,96,97,98,99,100]\n",
    "    C_p_p = [4217,4213,4210,4207,4205,4202,4200,4198,4196,4194,4192,4191,4189,4188,4187,4186,4185,4184,4183,4182,4182,4181,4181,4180,4180,4180,4179,4179,4179,4179,4178,4178,4178,4178,4178,4178,4178,4178,4178,4179,4179,4179,4179,4179,4179,4180,4180,4180,4180,4181,4181,4181,4182,4182,4182,4183,4183,4183,4184,4184,4185,4185,4186,4186,4187,4187,4188,4188,4189,4189,4190,4190,4191,4192,4192,4193,4194,4194,4195,4196,4196,4197,4198,4199,4200,4200,4201,4202,4203,4204,4205,4206,4207,4208,4209,4210,4211,4212,4213,4214,4216]\n",
    "\n",
    "    \n",
    "    C_p = np.interp(T, Tp, C_p_p)\n",
    "    return C_p"
   ]
  },
  {
   "cell_type": "code",
   "execution_count": 109,
   "metadata": {},
   "outputs": [
    {
     "data": {
      "text/plain": [
       "4179.0"
      ]
     },
     "execution_count": 109,
     "metadata": {},
     "output_type": "execute_result"
    }
   ],
   "source": [
    "spheatWater(273.15+40)"
   ]
  },
  {
   "cell_type": "code",
   "execution_count": 120,
   "metadata": {},
   "outputs": [],
   "source": [
    "def thermalcondWater(T):\n",
    "    \n",
    "    k = -0.5752 + 6.397e-3*T - 8.151e-6*np.square(T)\n",
    "    \n",
    "    return k\n",
    "    "
   ]
  },
  {
   "cell_type": "code",
   "execution_count": 123,
   "metadata": {},
   "outputs": [
    {
     "data": {
      "text/plain": [
       "0.62204575020249975"
      ]
     },
     "execution_count": 123,
     "metadata": {},
     "output_type": "execute_result"
    }
   ],
   "source": [
    "thermalcondWater(273.15+35)"
   ]
  },
  {
   "cell_type": "code",
   "execution_count": null,
   "metadata": {
    "collapsed": true
   },
   "outputs": [],
   "source": []
  }
 ],
 "metadata": {
  "kernelspec": {
   "display_name": "Python 3",
   "language": "python",
   "name": "python3"
  },
  "language_info": {
   "codemirror_mode": {
    "name": "ipython",
    "version": 3
   },
   "file_extension": ".py",
   "mimetype": "text/x-python",
   "name": "python",
   "nbconvert_exporter": "python",
   "pygments_lexer": "ipython3",
   "version": "3.6.1"
  }
 },
 "nbformat": 4,
 "nbformat_minor": 2
}
