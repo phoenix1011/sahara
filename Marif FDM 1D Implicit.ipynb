{
 "cells": [
  {
   "cell_type": "code",
   "execution_count": 65,
   "metadata": {
    "collapsed": true
   },
   "outputs": [],
   "source": [
    "import numpy as np"
   ]
  },
  {
   "cell_type": "code",
   "execution_count": 66,
   "metadata": {
    "collapsed": true
   },
   "outputs": [],
   "source": [
    "def Gauss_Seidel(A, b, x, n):\n",
    "    \"\"\"\n",
    "    Computes x vector from Ax=b linear matrix equation\n",
    "    \"\"\"\n",
    "    \n",
    "    L = np.tril(A)    # L is strictly lower triangluar matrix\n",
    "    U = A - L         # U is upper triangulat matrix\n",
    "    \n",
    "    for i in range(n):\n",
    "        x_new = np.dot(np.linalg.inv(L), b - np.dot(U, x))\n",
    "        \n",
    "        if np.all((abs(x_new-x)<=1e-8)):\n",
    "            break\n",
    "        #print str(i).zfill(3),\n",
    "        \n",
    "        x = x_new\n",
    "        print(x)\n",
    "    \n",
    "    return x"
   ]
  },
  {
   "cell_type": "code",
   "execution_count": 67,
   "metadata": {
    "collapsed": true
   },
   "outputs": [],
   "source": [
    "A = np.array([[1.0, 2.0, 0, 0], [0, 3.0, 4.0, 0], [0, 0, -2, 1], [1, 2, 3, 4]])\n",
    "b = [5, 6, 7, 8]\n",
    "x = [1, 1, 1, 1]"
   ]
  },
  {
   "cell_type": "code",
   "execution_count": 68,
   "metadata": {},
   "outputs": [],
   "source": [
    "import decimal\n",
    "def Thermal_Cond_Air(T, P):\n",
    "    \n",
    "    rho = P / (287.058*T)    # T : absolute temperature in K\n",
    "                             # P : absolute pressure in Pa\n",
    "    T_star = 132.5\n",
    "    rho_star = 314.3\n",
    "    \n",
    "    T_r = T / T_star\n",
    "    rho_r = rho / rho_star\n",
    "    \n",
    "    C = np.array([0.239503, 0.00649768, 1.0, -1.92615, 2.00383, -1.07553, 0.229414])\n",
    "    T_vec = np.array([T_r, np.power(T_r, 0.5), np.power(T_r, 0), np.power(T_r, -1), np.power(T_r, -2), np.power(T_r, -3), np.power(T_r, -4)])\n",
    "    \n",
    "    D = np.array([0.402287, 0.356603, -0.163159, 0.138059, -0.0201725])\n",
    "    rho_vec = np.array([rho_r, np.power(rho_r, 2), np.power(rho_r, 3), np.power(rho_r, 4), np.power(rho_r, 5)])\n",
    "    \n",
    "    \n",
    "    conductivity = np.dot(C, (T_vec)) + np.dot(D, (rho_vec))\n",
    "    \n",
    "#     print (C, T_vec, D, rho_vec)\n",
    "    \n",
    "#     R1 = np.multiply(C, T_vec)\n",
    "#     R2 = np.multiply(D, rho_vec)\n",
    "    \n",
    "#     print(R1)\n",
    "#     conductivity = R1 + R2\n",
    "    \n",
    "    return conductivity"
   ]
  },
  {
   "cell_type": "code",
   "execution_count": 115,
   "metadata": {
    "collapsed": true
   },
   "outputs": [],
   "source": [
    "def Thermal_Cond_Air_pierre(T):\n",
    "    \"\"\"\n",
    "    Uses the correlation to determine thermal conductivity in [W/mK] for air at sea level pressure\n",
    "    input is absolute temperature in [K]\n",
    "    \"\"\"\n",
    "\n",
    "    k = 1.5207e-11*np.power(T, 3) - 4.8574e-8*np.power(T, 2) + 1.0184e-4*T - 3.9333e-4\n",
    "    return k"
   ]
  },
  {
   "cell_type": "code",
   "execution_count": null,
   "metadata": {},
   "outputs": [],
   "source": []
  },
  {
   "cell_type": "code",
   "execution_count": null,
   "metadata": {
    "collapsed": true
   },
   "outputs": [],
   "source": []
  },
  {
   "cell_type": "code",
   "execution_count": null,
   "metadata": {
    "collapsed": true
   },
   "outputs": [],
   "source": []
  }
 ],
 "metadata": {
  "kernelspec": {
   "display_name": "Python 3",
   "language": "python",
   "name": "python3"
  },
  "language_info": {
   "codemirror_mode": {
    "name": "ipython",
    "version": 3
   },
   "file_extension": ".py",
   "mimetype": "text/x-python",
   "name": "python",
   "nbconvert_exporter": "python",
   "pygments_lexer": "ipython3",
   "version": "3.6.1"
  }
 },
 "nbformat": 4,
 "nbformat_minor": 2
}
